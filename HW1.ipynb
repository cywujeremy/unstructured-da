{
 "cells": [
  {
   "cell_type": "markdown",
   "metadata": {},
   "source": [
    "# Unstructured Data Analytics HW1\n",
    "\n",
    "Name: Chengyu Wu\n",
    "\n",
    "Andrew ID: chengyu2\n",
    "\n",
    "Collaborators (if none, say \"none\"; do *not* leave this blank): None.\n",
    "\n",
    "Reminder: you should not be sharing code."
   ]
  },
  {
   "cell_type": "markdown",
   "metadata": {},
   "source": [
    "**Warning: make sure your compute environment is set up first.** This homework assignment assumes that you have already installed Anaconda Python 3 and spaCy. Instructions for installing these are part of the tutorial [here](https://www.andrew.cmu.edu/user/georgech/95-865/Anaconda,%20Jupyter,%20and%20spaCy%20setup%20tutorial.pdf)."
   ]
  },
  {
   "cell_type": "markdown",
   "metadata": {},
   "source": [
    "### Instructions\n",
    "1. Fill in your name, Andrew ID, and collaborators above.\n",
    "2. Fill in the code/text blocks to answer each question.\n",
    "3. Do *not* change any of the existing code provided.\n",
    "4. Run the entire notebook *before* submitting it on Canvas to make sure that the code actually runs without errors. (**Important**: Any code cells that you have entered code for but did not actually execute will be disregarded, so please be sure to actually run your code first and make sure it runs without errors! We may re-run a subset of your code for grading purposes.)\n",
    "5. Be careful about where you save data for use with this Jupyter notebook (more details on this later)."
   ]
  },
  {
   "cell_type": "markdown",
   "metadata": {},
   "source": [
    "### [Problem 1] Basic Text Analysis [45 pts]\n",
    "\n",
    "This problem involves a mix of Python review (loops, conditionals, counters/dictionaries, sorting) and learning to work with a sizable collection of text data.\n",
    "\n",
    "You will be looking at a phenomenon of \"natural languages\" (i.e., human languages, such as English) called *Zipf's law*, which relates how frequently a word occurs in a language to its \"rank\" (the word with rank 1 is the most frequently occurring word, the word with rank 2 is the second most frequently occurring word, etc). Roughly speaking, the word with rank 1 appears twice as likely as the word with rank 2, and the three times as likely as the word with rank 3, and so forth. (Some details on Zipf's law can be found on [Wikipedia](https://en.wikipedia.org/wiki/Zipf%27s_law).) In this problem, you are going to check whether Zipf's law holds for a real dataset of text documents.\n",
    "\n",
    "The dataset we look at is a collection of the 100 most popular books downloaded from the [Gutenburg Project](https://www.gutenberg.org/browse/scores/top). These 100 books form the corpus that we consider for this problem. Each file contains the text of a book. We will read in all 100 books.\n",
    "\n",
    "Note: Please *do not* change the folder name or the path, and make sure you use a relative path (e.g. './HW1_Dataset/*filename*) when reading the files. When grading your homework, we will put your Jupyter notebook file and the dataset in the same folder, and run your code. **You will not receive points for this problem if your code fails to load the data.**\n",
    "\n",
    "Hint: To list all files that match a certain pattern, you can use the `glob` package. Here's an example usage:\n",
    "\n",
    "```python\n",
    "import glob\n",
    "print(glob.glob('./HW1_Dataset/*.txt'))\n",
    "```\n",
    "\n",
    "**(a) Warm-up/basic Python review [15 pts across subparts].** This part serves as a warm-up, getting you familiar with the kind of code we will be writing in this class. Note that throughout part (a), your code should **not** be using spaCy.\n",
    "\n",
    "**Subpart i [5 pts].** Write a loop that iterates through all 100 books; for each book, print out its corresponding file name and also how long the book is in terms of string length (meaning that if we load in the book as a string, we compute the length of the string using the built-in Python function `len`; this is just counting the number of characters).\n",
    "\n",
    "**Please do not actually print out the contents of each book since many of the books are extremely long, and by printing out all the books' contents, you'll end up creating a Jupyter notebook that has a massive file size.**\n",
    "\n",
    "Hint: When debugging your code, you may want to first make sure your code runs on a few of the books rather than all 100 (for example, you can start by only having 3 of the text files in `HW1_Dataset`). Once you're confident that your solution is correct on a few text files, then run on all of them! This is a standard approach to debugging code that is meant to handle large datasets.\n",
    "\n",
    "Your output should look like (although there should be 100 books rather than 3 as shown below; also, the ordering of the books might be different on your machine):\n",
    "\n",
    "```\n",
    "./HW1_Dataset/War and Peace by graf Leo Tolstoy (251).txt 3227580\n",
    "./HW1_Dataset/Democracy in America — Volume 1 by Alexis de Tocqueville (147).txt 1148435\n",
    "./HW1_Dataset/Frankenstein; Or, The Modern Prometheus by Mary Wollstonecraft Shelley (501).txt 441034\n",
    "```"
   ]
  },
  {
   "cell_type": "code",
   "execution_count": 1,
   "metadata": {},
   "outputs": [
    {
     "name": "stdout",
     "output_type": "stream",
     "text": [
      "./HW1_Dataset\\A Christmas Carol in Prose; Being a Ghost Story of Christmas by Charles Dickens (265).txt 177758\n",
      "./HW1_Dataset\\A History of Spanish Literature by James Fitzmaurice-Kelly (109).txt 765918\n",
      "./HW1_Dataset\\A Modest Proposal by Jonathan Swift (233).txt 38966\n",
      "./HW1_Dataset\\A Study in Scarlet by Arthur Conan Doyle (163).txt 262340\n",
      "./HW1_Dataset\\A Tale of Two Cities by Charles Dickens (425).txt 776702\n",
      "./HW1_Dataset\\Adventures of Huckleberry Finn by Mark Twain (401).txt 593962\n",
      "./HW1_Dataset\\Alice in Wonderland by Lewis Carroll and Alice Gerstenberg (126).txt 104079\n",
      "./HW1_Dataset\\Alice's Adventures in Wonderland by Lewis Carroll (564).txt 163817\n",
      "./HW1_Dataset\\Anne of Green Gables by L. M.  Montgomery (114).txt 580635\n",
      "./HW1_Dataset\\Autobiography of Benjamin Franklin by Benjamin Franklin (247).txt 458600\n",
      "./HW1_Dataset\\Beowulf An Anglo-Saxon Epic Poem (403).txt 292953\n",
      "./HW1_Dataset\\Beyond Good and Evil by Friedrich Wilhelm Nietzsche (120).txt 402273\n",
      "./HW1_Dataset\\Candide by Voltaire (180).txt 224924\n",
      "./HW1_Dataset\\Carmilla by Joseph Sheridan Le Fanu (135).txt 176408\n",
      "./HW1_Dataset\\Common Sense by Thomas Paine (297).txt 145353\n",
      "./HW1_Dataset\\Democracy in America — Volume 1 by Alexis de Tocqueville (147).txt 1148435\n",
      "./HW1_Dataset\\Dracula by Bram Stoker (461).txt 867141\n",
      "./HW1_Dataset\\Dubliners by James Joyce (219).txt 389199\n",
      "./HW1_Dataset\\Emma by Jane Austen (166).txt 902390\n",
      "./HW1_Dataset\\Essays by Ralph Waldo Emerson by Ralph Waldo Emerson (239).txt 557197\n",
      "./HW1_Dataset\\Essays of Michel de Montaigne — Complete by Michel de Montaigne (205).txt 3033575\n",
      "./HW1_Dataset\\Et dukkehjem. English by Henrik Ibsen (557).txt 161241\n",
      "./HW1_Dataset\\Frankenstein; Or, The Modern Prometheus by Mary Wollstonecraft Shelley (501).txt 441034\n",
      "./HW1_Dataset\\Great Expectations by Charles Dickens (293).txt 1013450\n",
      "./HW1_Dataset\\Grimms' Fairy Tales by Jacob Grimm and Wilhelm Grimm (429).txt 540241\n",
      "./HW1_Dataset\\Gulliver's Travels into Several Remote Nations of the World by Jonathan Swift (136).txt 600105\n",
      "./HW1_Dataset\\Heart of Darkness by Joseph Conrad (213).txt 229835\n",
      "./HW1_Dataset\\Hedda Gabler by Henrik Ibsen (123).txt 193875\n",
      "./HW1_Dataset\\Il Principe. English by Niccolò Machiavelli (428) (Unicode Encoding Conflict).txt 300788\n",
      "./HW1_Dataset\\Jane Eyre_ An Autobiography by Charlotte Brontë (290) (Unicode Encoding Conflict).txt 1049267\n",
      "./HW1_Dataset\\Leaves of Grass by Walt Whitman (164).txt 757361\n",
      "./HW1_Dataset\\Les Misérables by Victor Hugo (165) (Unicode Encoding Conflict).txt 3254333\n",
      "./HW1_Dataset\\Leviathan by Thomas Hobbes (417).txt 1231784\n",
      "./HW1_Dataset\\Liberalism by L. T.  Hobhouse (119).txt 305345\n",
      "./HW1_Dataset\\Metamorphosis by Franz Kafka (483).txt 139056\n",
      "./HW1_Dataset\\Moby Dick; Or, The Whale by Herman Melville (413).txt 1238569\n",
      "./HW1_Dataset\\My Fifteen Lost Years by Florence Elizabeth Maybrick (499).txt 383694\n",
      "./HW1_Dataset\\My Secret Life, Volumes I. to III. by Anonymous (157).txt 1378627\n",
      "./HW1_Dataset\\Narrative of the Captivity and Restoration of Mrs. Mary Rowlandson by Mary White Rowlandson (222).txt 123784\n",
      "./HW1_Dataset\\Narrative of the Life of Frederick Douglass, an American Slave by Frederick Douglass (243).txt 244263\n",
      "./HW1_Dataset\\On Liberty by John Stuart Mill (116).txt 325922\n",
      "./HW1_Dataset\\Outpost in the Wilderness_ Fort Wayne, 1706-1828 by Charles Poinsatte (161).txt 363234\n",
      "./HW1_Dataset\\Persuasion by Jane Austen (2234).txt 486251\n",
      "./HW1_Dataset\\Peter Pan by J. M.  Barrie (274).txt 278194\n",
      "./HW1_Dataset\\Prestuplenie i nakazanie. English by Fyodor Dostoyevsky (160).txt 1154508\n",
      "./HW1_Dataset\\Pride and Prejudice by Jane Austen (1003).txt 704192\n",
      "./HW1_Dataset\\Robert Greene by Robert Greene (126).txt 760655\n",
      "./HW1_Dataset\\Semmering 1912 by Peter Altenberg (221).txt 264946\n",
      "./HW1_Dataset\\Sense and Sensibility by Jane Austen (177).txt 693095\n",
      "./HW1_Dataset\\Siddhartha by Hermann Hesse (216).txt 236855\n",
      "./HW1_Dataset\\Songs of Innocence, and Songs of Experience by William Blake (166).txt 51724\n",
      "./HW1_Dataset\\The Adventures of Sherlock Holmes by Arthur Conan Doyle (447).txt 581864\n",
      "./HW1_Dataset\\The Adventures of Tom Sawyer by Mark Twain (371).txt 412712\n",
      "./HW1_Dataset\\The Awakening, and Selected Short Stories by Kate Chopin (192).txt 378936\n",
      "./HW1_Dataset\\The Boy Fortune Hunters in China by L. Frank  Baum (215).txt 324452\n",
      "./HW1_Dataset\\The Boy Fortune Hunters in the South Seas by L. Frank  Baum (150).txt 266166\n",
      "./HW1_Dataset\\The Complete Works of William Shakespeare by William Shakespeare (132).txt 5465100\n",
      "./HW1_Dataset\\The Confessions of St. Augustine by Bishop of Hippo Saint Augustine (157).txt 622405\n",
      "./HW1_Dataset\\The Count of Monte Cristo, Illustrated by Alexandre Dumas (160).txt 2643849\n",
      "./HW1_Dataset\\The Divine Comedy by Dante, Illustrated by Dante Alighieri (119).txt 2161\n",
      "./HW1_Dataset\\The Faery Queen and Her Knights by Alfred John Church (177).txt 447320\n",
      "./HW1_Dataset\\The Federalist Papers by Alexander Hamilton and John Jay and James Madison (116).txt 1167141\n",
      "./HW1_Dataset\\The Guardsman by Homer Greene (175).txt 412900\n",
      "./HW1_Dataset\\The History of the Peloponnesian War by Thucydides (122).txt 1200021\n",
      "./HW1_Dataset\\The Hound of the Baskervilles by Arthur Conan Doyle (223).txt 339188\n",
      "./HW1_Dataset\\The Iliad by Homer (256).txt 1175588\n",
      "./HW1_Dataset\\The Importance of Being Earnest_ A Trivial Comedy for Serious People by Oscar Wilde (454).txt 138887\n",
      "./HW1_Dataset\\The Innocents Abroad by Mark Twain (108).txt 1126278\n",
      "./HW1_Dataset\\The Interesting Narrative of the Life of Olaudah Equiano, Or Gustavus Vassa, The African by Equiano (114).txt 471165\n",
      "./HW1_Dataset\\The Kama Sutra of Vatsyayana by Vatsyayana (172).txt 351664\n",
      "./HW1_Dataset\\The King James Version of the Bible (132).txt 4351846\n",
      "./HW1_Dataset\\The Law of Storms by John Wilson Ross (110).txt 65264\n",
      "./HW1_Dataset\\The Legend of Sleepy Hollow by Washington Irving (399).txt 89237\n",
      "./HW1_Dataset\\The Life and Adventures of Robinson Crusoe by Daniel Defoe (126).txt 642909\n",
      "./HW1_Dataset\\The Mysterious Affair at Styles by Agatha Christie (115).txt 340770\n",
      "./HW1_Dataset\\The Odyssey by Homer (124).txt 697404\n",
      "./HW1_Dataset\\The Peddler Spy by W. J. Hamilton (356).txt 197390\n",
      "./HW1_Dataset\\The Philosophy of Spiritual Activity by Rudolf Steiner (144).txt 545031\n",
      "./HW1_Dataset\\The Picture of Dorian Gray by Oscar Wilde (282).txt 453169\n",
      "./HW1_Dataset\\The Republic by Plato (246).txt 1214387\n",
      "./HW1_Dataset\\The Romance of Lust_ A Classic Victorian erotic novel by Anonymous (294).txt 1051148\n",
      "./HW1_Dataset\\The Scarlet Letter by Nathaniel Hawthorne (211).txt 506975\n",
      "./HW1_Dataset\\The Souls of Black Folk by W. E. B.  Du Bois (172).txt 421336\n",
      "./HW1_Dataset\\The Strange Case of Dr. Jekyll and Mr. Hyde by Robert Louis Stevenson (158).txt 158048\n",
      "./HW1_Dataset\\The Strange Case of Dr. Jekyll and Mr. Hyde by Robert Louis Stevenson (170).txt 159542\n",
      "./HW1_Dataset\\The Time Machine by H. G.  Wells (137).txt 198281\n",
      "./HW1_Dataset\\The Tragedy of Romeo and Juliet by William Shakespeare (131).txt 174128\n",
      "./HW1_Dataset\\The Tragical History of Doctor Faustus by Christopher Marlowe (144).txt 143736\n",
      "./HW1_Dataset\\The Turn of the Screw by Henry James (185).txt 248089\n",
      "./HW1_Dataset\\The Wendigo by Algernon Blackwood (174).txt 127464\n",
      "./HW1_Dataset\\The Wonderful Wizard of Oz by L. Frank  Baum (150).txt 227654\n",
      "./HW1_Dataset\\The Works of Edgar Allan Poe — Volume 2 by Edgar Allan Poe (137).txt 569966\n",
      "./HW1_Dataset\\The Yellow Wallpaper by Charlotte Perkins Gilman (462).txt 50841\n",
      "./HW1_Dataset\\Through the Looking-Glass by Lewis Carroll (134).txt 181667\n",
      "./HW1_Dataset\\Treasure Island by Robert Louis Stevenson (236).txt 383675\n",
      "./HW1_Dataset\\Ulysses by James Joyce (282).txt 1534140\n",
      "./HW1_Dataset\\Uncle Tom's Cabin by Harriet Beecher Stowe (108).txt 1025501\n",
      "./HW1_Dataset\\Walden, and On The Duty Of Civil Disobedience by Henry David Thoreau (180).txt 656207\n",
      "./HW1_Dataset\\War and Peace by graf Leo Tolstoy (251).txt 3227580\n",
      "./HW1_Dataset\\Wuthering Heights by Emily Brontë (179) (Unicode Encoding Conflict).txt 669150\n"
     ]
    }
   ],
   "source": [
    "########################################################################\n",
    "######################### Write your code here #########################\n",
    "########################################################################\n",
    "import glob\n",
    "files = glob.glob('./HW1_Dataset/*.txt')\n",
    "\n",
    "# bookWordCount = []\n",
    "\n",
    "for file in files:\n",
    "    with open(file, 'r', encoding='utf-8') as f:\n",
    "        wordCount = len(f.read())\n",
    "        print(file, wordCount)\n",
    "        # bookWordCount.append((wordCount, file))"
   ]
  },
  {
   "cell_type": "markdown",
   "metadata": {},
   "source": [
    "**Subpart ii [5 pts].** Copy and paste your code from **subpart i** into the code cell below. Then in the code cell below, modify the code so that it prints out the top 15 longest books (in terms of raw string length, which is what you had already computed). In particular, please write your code so that the printout is of the following format:\n",
    "\n",
    "```\n",
    "1. <number of characters in longest text file> <filename of longest text file>\n",
    "2. <number of characters in 2nd longest text file> <filename of 2nd longest text file>\n",
    "...\n",
    "15. <number of characters in 15th longest text file> <filename of 15th longest text file>\n",
    "```\n",
    "\n",
    "Note: only print out information for the top 15 books in the format above; please do not repeat printing what we asked you to print in **subpart i**."
   ]
  },
  {
   "cell_type": "code",
   "execution_count": 2,
   "metadata": {},
   "outputs": [
    {
     "name": "stdout",
     "output_type": "stream",
     "text": [
      "1. 5465100 ./HW1_Dataset\\The Complete Works of William Shakespeare by William Shakespeare (132).txt\n",
      "2. 4351846 ./HW1_Dataset\\The King James Version of the Bible (132).txt\n",
      "3. 3254333 ./HW1_Dataset\\Les Misérables by Victor Hugo (165) (Unicode Encoding Conflict).txt\n",
      "4. 3227580 ./HW1_Dataset\\War and Peace by graf Leo Tolstoy (251).txt\n",
      "5. 3033575 ./HW1_Dataset\\Essays of Michel de Montaigne — Complete by Michel de Montaigne (205).txt\n",
      "6. 2643849 ./HW1_Dataset\\The Count of Monte Cristo, Illustrated by Alexandre Dumas (160).txt\n",
      "7. 1534140 ./HW1_Dataset\\Ulysses by James Joyce (282).txt\n",
      "8. 1378627 ./HW1_Dataset\\My Secret Life, Volumes I. to III. by Anonymous (157).txt\n",
      "9. 1238569 ./HW1_Dataset\\Moby Dick; Or, The Whale by Herman Melville (413).txt\n",
      "10. 1231784 ./HW1_Dataset\\Leviathan by Thomas Hobbes (417).txt\n",
      "11. 1214387 ./HW1_Dataset\\The Republic by Plato (246).txt\n",
      "12. 1200021 ./HW1_Dataset\\The History of the Peloponnesian War by Thucydides (122).txt\n",
      "13. 1175588 ./HW1_Dataset\\The Iliad by Homer (256).txt\n",
      "14. 1167141 ./HW1_Dataset\\The Federalist Papers by Alexander Hamilton and John Jay and James Madison (116).txt\n",
      "15. 1154508 ./HW1_Dataset\\Prestuplenie i nakazanie. English by Fyodor Dostoyevsky (160).txt\n"
     ]
    }
   ],
   "source": [
    "########################################################################\n",
    "######################### Write your code here #########################\n",
    "########################################################################\n",
    "\n",
    "bookWordCount = []\n",
    "\n",
    "for file in files:\n",
    "    with open(file, 'r', encoding='utf-8') as f:\n",
    "        wordCount = len(f.read())\n",
    "        bookWordCount.append((wordCount, file))\n",
    "\n",
    "bookWordCount.sort(key=lambda x: -x[0])\n",
    "\n",
    "for i in range(15):\n",
    "    print(f'{i + 1}. {bookWordCount[i][0]} {bookWordCount[i][1]}')"
   ]
  },
  {
   "cell_type": "markdown",
   "metadata": {},
   "source": [
    "**Subpart iii [5 pts].** You should find that some of the books are quite long. Processing very long books will be problematic with spaCy, so we will want to chop up long books into pieces. Note that later on in the course, we shall see that chopping up large amounts of data into small pieces or \"batches\" is in fact quite common in machine learning since for massive datasets, we often cannot store them in their entirety on a CPU or GPU for processing all at once.\n",
    "\n",
    "As a toy example, suppose that a book's text is `'cat dog shark spam eggs'` and we want to split it up into batches where each batch has at most 3 words. Then we could split up the book's text into two batches/pieces: `'cat dog shark'` and `'spam eggs'`.\n",
    "\n",
    "We have provided code for you to do this below."
   ]
  },
  {
   "cell_type": "code",
   "execution_count": 3,
   "metadata": {},
   "outputs": [
    {
     "name": "stdout",
     "output_type": "stream",
     "text": [
      "['cat dog shark', 'spam eggs']\n"
     ]
    }
   ],
   "source": [
    "import numpy as np\n",
    "\n",
    "def split_into_batches(book_text, max_num_words_per_batch):\n",
    "    \"\"\"Split long strings in to batches of specified length\n",
    "    Args:\n",
    "        book_text (str): the string of the book text\n",
    "        max_num_words_per_batch (int): the maximum number of elements in a batch\n",
    "    Returns:\n",
    "        batches (list): a list containing splitted batches\n",
    "    \"\"\"\n",
    "    words_split_on_spaces = book_text.split(' ')\n",
    "    num_book_pieces = int(np.ceil(len(words_split_on_spaces) / max_num_words_per_batch))\n",
    "    batches = []\n",
    "    for piece_idx in range(num_book_pieces):\n",
    "        start_idx = piece_idx * max_num_words_per_batch\n",
    "        end_idx = (piece_idx + 1) * max_num_words_per_batch\n",
    "        if end_idx > len(words_split_on_spaces):\n",
    "            end_idx = len(words_split_on_spaces)\n",
    "        book_piece = ' '.join(words_split_on_spaces[start_idx:end_idx])\n",
    "        batches.append(book_piece)\n",
    "    return batches\n",
    "\n",
    "print(split_into_batches('cat dog shark spam eggs', 3))"
   ]
  },
  {
   "cell_type": "markdown",
   "metadata": {},
   "source": [
    "Now write a loop that goes through all 100 books again. However, for each book, split it up into batches so that each batch has at most 10000 words. In this case, how many batches are there total across all 100 books? Please write code that computes this number of batches. Your code should print out the following (with the correct total number of batches):\n",
    "\n",
    "```\n",
    "Total number of batches: <total number of batches across all 100 books>\n",
    "```"
   ]
  },
  {
   "cell_type": "code",
   "execution_count": 4,
   "metadata": {},
   "outputs": [
    {
     "name": "stdout",
     "output_type": "stream",
     "text": [
      "Total number of batches: 1246\n"
     ]
    }
   ],
   "source": [
    "########################################################################\n",
    "######################### Write your code here #########################\n",
    "########################################################################\n",
    "\n",
    "### Assumming batches cannot be across books\n",
    "\n",
    "max_num_words = 10000\n",
    "batches = []\n",
    "totalBatchLength = 0\n",
    "for file in files:\n",
    "    with open(file, 'r', encoding='utf-8') as f:\n",
    "        bookText = f.read()\n",
    "        batches = split_into_batches(book_text=bookText, max_num_words_per_batch=max_num_words)\n",
    "        totalBatchLength += len(batches)\n",
    "\n",
    "print(f'Total number of batches: {totalBatchLength}')\n"
   ]
  },
  {
   "cell_type": "markdown",
   "metadata": {},
   "source": [
    "**(b) [10 pts]** Now we will finally use spaCy. Note that for this problem, you don't actually need `spaCy`'s named entity recognition or grammatical parsing. Turning these elements off when you instantiate the `nlp` object can substantially speed up your code. To make sure these are off when instantiating the `nlp` object, call: \n",
    "\n",
    "```python\n",
    "nlp = spacy.load('en_core_web_sm', disable=['ner', 'parser'])\n",
    "```\n",
    "\n",
    "**Throughout this problem, do not remove stopwords.**\n",
    "\n",
    "Build a term frequency (raw counts) table that is for all 100 books. Specifically, building on your solution to part (a)-subpart iii, read in a single book at a time and for each book, do the following:\n",
    "\n",
    "  1. Split it up into batches where each batch has at most 10000 words.\n",
    "  2. For each batch:\n",
    "    1. Process the batch by separating and lemmatizing the words\n",
    "    2. Count the number of times each lemma appears and add these to the frequency table. For simplicity, **do not convert lemmas to lowercase**. (Note that we use raw counts as the \"frequency\"--do not do any division.) Also, as we explain below, we will only count lemmas that are alphanumeric.\n",
    "\n",
    "Note that just as we had said in part (a): do **not** print out the complete contents of every book since doing so will result in a Jupyter notebook file that is massive.\n",
    "\n",
    "After looping through all 100 books, you should have the term frequency table for the entire corpus (importantly, the frequency table should not just be for a single book; it should be for all 100 books). Sort the table and print the top 50 most frequent words, along with their frequencies and ranks. Don't worry about ties (for example, if multiple things have the same frequency, it's fine if your solution breaks ties arbitrarily in the sorting).\n",
    "\n",
    "Note: When counting the lemmas, only include lemmas that consist of alphabetic letters (a-z and A-Z). You can do this with what's called a *regular expression*. For example, to check whether the words \"will.i.am\" or \"Tesla\" are alphabetic, you would do the following:\n",
    "\n",
    "```python\n",
    "import re  # regular expression package\n",
    "if re.match('[a-zA-Z]+$', 'will.i.am'):\n",
    "    print('will.i.am consists only of alphabetic letters!')\n",
    "if re.match('[a-zA-Z]+$', 'Tesla'):\n",
    "    print('tesla consists only of alphabetic letters!')\n",
    "```"
   ]
  },
  {
   "cell_type": "code",
   "execution_count": 5,
   "metadata": {},
   "outputs": [],
   "source": [
    "########################################################################\n",
    "######################### Write your code here #########################\n",
    "########################################################################\n",
    "import spacy\n",
    "from collections import Counter\n",
    "import re\n",
    "# spacy.prefer_gpu()\n",
    "nlp = spacy.load('en_core_web_sm', disable=['ner', 'parser'])\n",
    "\n",
    "max_num_words = 10000\n",
    "batches = []\n",
    "freqTable = Counter()\n",
    "for file in files:\n",
    "    with open(file, 'r', encoding='utf-8') as f:\n",
    "        bookText = f.read()\n",
    "        batches = split_into_batches(book_text=bookText, max_num_words_per_batch=max_num_words)\n",
    "    for batch in batches:\n",
    "        batch = re.findall(r'[a-zA-Z]+', batch)\n",
    "        freqTable += Counter(batch)\n",
    "\n",
    "\n",
    "sortedFreqTable = sorted(freqTable.items(), key=lambda x: -x[1])\n"
   ]
  },
  {
   "cell_type": "code",
   "execution_count": 6,
   "metadata": {},
   "outputs": [
    {
     "data": {
      "text/plain": [
       "[('the', 648374),\n",
       " ('and', 394761),\n",
       " ('of', 378379),\n",
       " ('to', 314894),\n",
       " ('a', 223204),\n",
       " ('I', 199079),\n",
       " ('in', 192934),\n",
       " ('that', 149268),\n",
       " ('it', 115959),\n",
       " ('was', 114246),\n",
       " ('he', 109692),\n",
       " ('his', 103609),\n",
       " ('is', 101209),\n",
       " ('with', 97383),\n",
       " ('you', 89522),\n",
       " ('not', 86936),\n",
       " ('for', 85217),\n",
       " ('as', 83697),\n",
       " ('be', 77370),\n",
       " ('had', 71581),\n",
       " ('my', 67665),\n",
       " ('her', 66526),\n",
       " ('at', 60443),\n",
       " ('on', 59957),\n",
       " ('s', 59875),\n",
       " ('have', 59760),\n",
       " ('him', 58902),\n",
       " ('me', 58361),\n",
       " ('by', 58356),\n",
       " ('which', 57217),\n",
       " ('all', 55090),\n",
       " ('but', 54519),\n",
       " ('The', 52003),\n",
       " ('this', 51122),\n",
       " ('they', 48869),\n",
       " ('from', 47803),\n",
       " ('or', 44879),\n",
       " ('are', 42606),\n",
       " ('so', 42033),\n",
       " ('she', 41974),\n",
       " ('And', 40432),\n",
       " ('them', 39464),\n",
       " ('said', 38550),\n",
       " ('their', 37301),\n",
       " ('one', 37172),\n",
       " ('were', 37079),\n",
       " ('we', 34554),\n",
       " ('will', 33430),\n",
       " ('no', 31334),\n",
       " ('an', 31299)]"
      ]
     },
     "execution_count": 6,
     "metadata": {},
     "output_type": "execute_result"
    }
   ],
   "source": [
    "sortedFreqTable[:50]"
   ]
  },
  {
   "cell_type": "markdown",
   "metadata": {},
   "source": [
    "**(c) [10 pts]** Visualize the frequency table by plotting a **raw scatter plot** (put frequency as the y-axis and rank as the x-axis), and a **log-log plot** (use logarithmic scales on both the x- and y- axes). Note that this should be for all words and not only the top 50. As before, for the ranks, do not worry about ties, i.e., break ties arbitrarily."
   ]
  },
  {
   "cell_type": "code",
   "execution_count": 7,
   "metadata": {},
   "outputs": [
    {
     "data": {
      "image/png": "[encoded data removed]",
      "text/plain": [
       "<Figure size 432x288 with 1 Axes>"
      ]
     },
     "metadata": {
      "needs_background": "light"
     },
     "output_type": "display_data"
    }
   ],
   "source": [
    "# Raw scatter plot\n",
    "########################################################################\n",
    "######################### Write your code here #########################\n",
    "########################################################################\n",
    "import matplotlib.pyplot as plt\n",
    "\n",
    "top50Words = sortedFreqTable[:50]\n",
    "\n",
    "topWords, topFreq = zip(*top50Words)\n",
    "\n",
    "\n",
    "fig, ax = plt.subplots()\n",
    "plt.style.use('seaborn') \n",
    "ax.scatter(x=range(1, 51), y=topFreq)\n",
    "plt.xlabel('rank')\n",
    "plt.ylabel('Raw count')\n",
    "plt.title('Raw counts versus ranks for the top 50 frequent words')\n",
    "plt.show()"
   ]
  },
  {
   "cell_type": "code",
   "execution_count": 8,
   "metadata": {},
   "outputs": [
    {
     "data": {
      "image/png": "[encoded data removed]",
      "text/plain": [
       "<Figure size 576x396 with 1 Axes>"
      ]
     },
     "metadata": {},
     "output_type": "display_data"
    }
   ],
   "source": [
    "# Log-log plot\n",
    "########################################################################\n",
    "######################### Write your code here #########################\n",
    "########################################################################\n",
    "fig, ax = plt.subplots()\n",
    "plt.style.use('seaborn') \n",
    "ax.scatter(x=range(1, 51), y=topFreq)\n",
    "plt.xscale('log')\n",
    "plt.yscale('log')\n",
    "plt.xlabel('rank')\n",
    "plt.ylabel('Raw count')\n",
    "plt.title('Log-counts versus log-ranks for the top 50 frequent words')\n",
    "plt.show()"
   ]
  },
  {
   "cell_type": "markdown",
   "metadata": {},
   "source": [
    "**(d) [10 pts across subparts]** Let's now try to make sense of the very last plot in part **(c)**. Zipf's law states that term frequency is governed by a power law, i.e. the relationship between term frequency and rank can be approximated by $f(r) = cr^{-1}$, where $f(r)$ is the frequency of the term at rank $r$, $r$ is the rank of a term, and $c$ is a constant that is approximately 0.1*(corpus size) for English.\n",
    "\n",
    "Please answer the following questions:\n",
    "\n",
    "**Subpart i [3 pts].** What do you observe in the log-log plot above? Is this consist with the power law?"
   ]
  },
  {
   "cell_type": "markdown",
   "metadata": {},
   "source": [
    "Your text answer (for this question, your answer is *not* code): \n",
    "\n",
    "*** WRITE YOUR ANSWER HERE ***\n",
    "\n",
    "Answer: Yes, after taking the log-log scale on both axes, we can observe an approximatly linear relationship between the two log-transformed amount, which indicates that the relationship between raw counts and original ranks is governed by a power law."
   ]
  },
  {
   "cell_type": "markdown",
   "metadata": {},
   "source": [
    "**Subpart ii [4 pts].** Think of the corpus as a (large) unigram bag of words. Following the analogy from lecture, imagine drawing a single word from this big bag (note that we are assuming that we've lemmatized the words and also filtered out non-alphanumeric words; thus what remains in the bag are actually alphanumeric lemmas). What is the probability of drawing one of the 4 most frequent alphanumeric lemmas? What is the probability of drawing one of the 50 most frequent alphanumeric lemmas? Answer these two questions using code rather than just entering in the final answers as numbers."
   ]
  },
  {
   "cell_type": "code",
   "execution_count": 9,
   "metadata": {},
   "outputs": [
    {
     "name": "stdout",
     "output_type": "stream",
     "text": [
      "Probability of drawing one of the 4 most frequent alphanumeric lemmas: \n",
      "0.1409127327830859\n",
      "Probability of drawing one of the 50 most frequent alphanumeric lemmas: \n",
      "0.4127293341319758\n"
     ]
    }
   ],
   "source": [
    "print('Probability of drawing one of the 4 most frequent alphanumeric lemmas: ')\n",
    "########################################################################\n",
    "######################### Write your code here #########################\n",
    "########################################################################\n",
    "fullCorpus, fullFreq = zip(*sortedFreqTable)\n",
    "sumTop4Freq = sum(fullFreq[:4])\n",
    "probTop4Freq = sumTop4Freq / sum(fullFreq)\n",
    "print(probTop4Freq)\n",
    "\n",
    "\n",
    "print('Probability of drawing one of the 50 most frequent alphanumeric lemmas: ')\n",
    "########################################################################\n",
    "######################### Write your code here #########################\n",
    "########################################################################\n",
    "fullCorpus, fullFreq = zip(*sortedFreqTable)\n",
    "sumTop50Freq = sum(fullFreq[:50])\n",
    "probTop50Freq = sumTop50Freq / sum(fullFreq)\n",
    "print(probTop50Freq)\n"
   ]
  },
  {
   "cell_type": "markdown",
   "metadata": {},
   "source": [
    "**Subpart iii [4 pts].** What proportion of the alphanumeric lemmas occur only once? What proportion of the alphanumeric lemmas occur fewer than 10 times?"
   ]
  },
  {
   "cell_type": "code",
   "execution_count": 10,
   "metadata": {
    "scrolled": true
   },
   "outputs": [
    {
     "name": "stdout",
     "output_type": "stream",
     "text": [
      "Occur only once: \n",
      "0.4135243694788468\n",
      "Occur fewer than 10 times: \n",
      "0.7593104652685809\n"
     ]
    }
   ],
   "source": [
    "print(\"Occur only once: \")\n",
    "########################################################################\n",
    "######################### Write your code here #########################\n",
    "########################################################################\n",
    "onlyOnceWords = list(filter(lambda x: x[1] == 1, sortedFreqTable))\n",
    "onceOccurProportion = len(onlyOnceWords) / len(sortedFreqTable)\n",
    "print(onceOccurProportion)\n",
    "\n",
    "\n",
    "print(\"Occur fewer than 10 times: \")\n",
    "########################################################################\n",
    "######################### Write your code here #########################\n",
    "########################################################################\n",
    "under10TimesWords = list(filter(lambda x: x[1] < 10, sortedFreqTable))\n",
    "under10TimesProportion = len(under10TimesWords) / len(sortedFreqTable)\n",
    "print(under10TimesProportion)"
   ]
  },
  {
   "cell_type": "markdown",
   "metadata": {},
   "source": [
    "### [Problem 2] Entity Recognition and Pointwise Mutual Information (PMI) [50 pts]\n",
    "By using the entity recognition system in `spaCy`, let's identify named entities from newspaper articles. You'll be using Reuters corpus which contains more than ten thousand newspaper articles. To run the code below, you need to download the Reuters dataset. To do so, in a terminal/command line (recall that you can open a terminal from Jupyter's webpage that shows all the files, which by default is [http://localhost:8888/tree](http://localhost:8888/tree)), start up Python and enter:\n",
    "\n",
    "```python\n",
    "import nltk\n",
    "nltk.download('reuters')\n",
    "```\n",
    "\n",
    "Then proceed to the problem subparts below.\n",
    "\n",
    "Note that in this problem you will need named entity recognition but not grammatical parsing. Hence, you will want to instantiate the nlp object by calling:\n",
    "\n",
    "```python\n",
    "nlp = spacy.load('en_core_web_sm', disable=['parser'])\n",
    "```\n"
   ]
  },
  {
   "cell_type": "markdown",
   "metadata": {},
   "source": [
    "**(a) [15 pts]** Draw a bar chart in which one of the axes shows entity labels and the other shows the frequency of the corresponding label. Use the variables `reuters_nlp` and `label_counter` provided in the code below."
   ]
  },
  {
   "cell_type": "code",
   "execution_count": 20,
   "metadata": {
    "scrolled": false
   },
   "outputs": [
    {
     "data": {
      "text/plain": [
       "[('CARDINAL', 61369),\n",
       " ('ORG', 44291),\n",
       " ('DATE', 35546),\n",
       " ('GPE', 21302),\n",
       " ('PERSON', 11761),\n",
       " ('NORP', 6327),\n",
       " ('MONEY', 5501),\n",
       " ('QUANTITY', 5064),\n",
       " ('PRODUCT', 2348),\n",
       " ('LOC', 1605),\n",
       " ('ORDINAL', 1132),\n",
       " ('LAW', 843),\n",
       " ('TIME', 794),\n",
       " ('FAC', 322),\n",
       " ('WORK_OF_ART', 174),\n",
       " ('EVENT', 170),\n",
       " ('LANGUAGE', 33),\n",
       " ('PERCENT', 25)]"
      ]
     },
     "execution_count": 20,
     "metadata": {},
     "output_type": "execute_result"
    }
   ],
   "source": [
    "import matplotlib.pyplot as plt\n",
    "from collections import Counter\n",
    "from nltk.corpus import reuters\n",
    "import re\n",
    "import spacy\n",
    "# spacy.prefer_gpu()\n",
    "nlp = spacy.load('en_core_web_sm', disable=['parser'])\n",
    "reuters_fileids = reuters.fileids()  # hint: when first debugging, consider looking at just the first few\n",
    "\n",
    "reuters_nlp = [nlp(re.sub('\\s+',' ', reuters.raw(i)).strip()) for i in reuters_fileids]\n",
    "label_counter = Counter()\n",
    "\n",
    "########################################################################\n",
    "######################### Write your code here #########################\n",
    "########################################################################\n",
    "label_list = list(map(lambda x: [y.label_ for y in x.ents], reuters_nlp))\n",
    "label_counter_list = map(lambda x: Counter(x), label_list)\n",
    "label_counter = sum(label_counter_list, label_counter)\n",
    "sorted_label_counter = sorted(label_counter.items(), reverse=True, key=lambda x: x[1])\n",
    "sorted_label_counter\n",
    "\n",
    "# bar chart of frequencies of labels\n",
    "labels, freqs = zip(*sorted_label_counter)\n",
    "plt.barh(labels[::-1], freqs[::-1])\n",
    "plt.title('Frequencies of the lables')\n",
    "plt.ylabel('Lables')\n",
    "plt.xlabel('Frequency')\n",
    "plt.show()"
   ]
  },
  {
   "cell_type": "markdown",
   "metadata": {},
   "source": [
    "**(b) [15 pts]** Now list the top 10 most frequently occurring entities (entity text and the number of occurence) with label `ORG` (organization). Separately list the top 10 most frequently occurring entities with label `GPE` (geopolitical entity such as countries, cities, states) respectively. **In both cases, please convert the entity names to lowercase first before computing the top 10.**\n",
    "\n",
    "Here, when counting the (raw count) frequency, we need to count how many articles have an entity with the desired property. For every article, we add 1 if the article has the entity and 0 otherwise."
   ]
  },
  {
   "cell_type": "code",
   "execution_count": 57,
   "metadata": {},
   "outputs": [
    {
     "name": "stdout",
     "output_type": "stream",
     "text": [
      "Top 10 most frequently occurring entities with label ORG:\n",
      "[('reuters', 455), ('net shr', 262), ('treasury', 256), ('the securities and exchange commission', 249), ('ec', 234), ('usda', 195), ('fed', 192), ('oper', 186), ('the u.s. agriculture department', 172), ('the bank of england', 136)]\n",
      "Top 10 most frequently occurring entities with label GPE:\n",
      "[('u.s.', 1623), ('japan', 568), ('the united states', 384), ('u.k.', 310), ('canada', 295), ('new york', 246), ('west germany', 238), ('washington', 229), ('london', 214), ('brazil', 200)]\n"
     ]
    }
   ],
   "source": [
    "########################################################################\n",
    "######################### Write your code here #########################\n",
    "########################################################################\n",
    "print('Top 10 most frequently occurring entities with label ORG:')\n",
    "ORG_lemma_lists = list(map(lambda x: [y.lemma_.lower() for y in x.ents if y.label_ == 'ORG'], reuters_nlp))\n",
    "ORG_counter_list = map(lambda x: Counter(set(x)), ORG_lemma_lists)\n",
    "ORG_counter = sum(ORG_counter_list, Counter())\n",
    "sorted_ORG_counter = sorted(ORG_counter.items(), reverse=True, key=lambda x: x[1])\n",
    "print(sorted_ORG_counter[:10])\n",
    "\n",
    "print('Top 10 most frequently occurring entities with label GPE:')\n",
    "GPE_lemma_lists = list(map(lambda x: [y.lemma_.lower() for y in x.ents if y.label_ == 'GPE'], reuters_nlp))\n",
    "GPE_counter_list = map(lambda x: Counter(set(x)), GPE_lemma_lists)\n",
    "GPE_counter = sum(GPE_counter_list, Counter())\n",
    "sorted_GPE_counter = sorted(GPE_counter.items(), reverse=True, key=lambda x: x[1])\n",
    "print(sorted_GPE_counter[:10])"
   ]
  },
  {
   "cell_type": "markdown",
   "metadata": {},
   "source": [
    "**(c) [20 pts]** Give the top 50 `GPE` (countries, cities, states) entities that have the highest Pointwise Mutual Information (PMI) values with regard to the `ORG` (organization) entity **'opec'** (your list of this top 50 should be ranked in decreasing PMI value). Did you find any unexpected results? If so, why do you think it happened? If you found some of the results to be unsurprisingly, how come? **Just like in the previous part, please convert entity names to lowercase in your analysis.**\n",
    "\n",
    "Hint 1: As in lecture, when computing PMI, we will compute probabilities by counting the number of documents where entities occur or co-occur.  For example, $P('opec') = \\frac{number \\ \\ of \\ \\ documents \\ \\ containing \\ \\ 'opec'}{number \\ \\ of \\ \\ documents}$.  \n",
    "\n",
    "Hint 2: To compute this ranking, you do not have to compute the full PMI equation."
   ]
  },
  {
   "cell_type": "code",
   "execution_count": 71,
   "metadata": {},
   "outputs": [
    {
     "name": "stderr",
     "output_type": "stream",
     "text": [
      "E:\\ProgramData\\Anaconda3\\lib\\site-packages\\ipykernel_launcher.py:13: RuntimeWarning: divide by zero encountered in log2\n",
      "  del sys.path[0]\n"
     ]
    },
    {
     "data": {
      "text/plain": [
       "[('opec', 13.397139806235604),\n",
       " ('oecd', 9.250298417906333),\n",
       " ('uae', 8.76487159073609),\n",
       " ('bank', 8.027905996569885),\n",
       " ('abu dhabi', 6.442943495848728),\n",
       " ('maciej', 6.442943495848728),\n",
       " ('bp', 5.442943495848728),\n",
       " ('gabon', 5.442943495848728),\n",
       " ('guayaquil', 5.442943495848728),\n",
       " ('the united arab emirates', 3.983511877211431),\n",
       " ('balao', 3.983511877211431),\n",
       " ('kuwait', 3.18420922744856),\n",
       " ('norway', 1.6880559936852595),\n",
       " ('ecuador', 0.635588573791124),\n",
       " ('indonesia', 0.19501598240514295),\n",
       " ('iran', -0.257496222292364),\n",
       " ('u.s.', -inf),\n",
       " ('japan', -inf),\n",
       " ('the united states', -inf),\n",
       " ('u.k.', -inf),\n",
       " ('canada', -inf),\n",
       " ('new york', -inf),\n",
       " ('west germany', -inf),\n",
       " ('washington', -inf),\n",
       " ('london', -inf),\n",
       " ('brazil', -inf),\n",
       " ('britain', -inf),\n",
       " ('paris', -inf),\n",
       " ('france', -inf),\n",
       " ('tokyo', -inf),\n",
       " ('china', -inf),\n",
       " ('the soviet union', -inf),\n",
       " ('texas', -inf),\n",
       " ('taiwan', -inf),\n",
       " ('italy', -inf),\n",
       " ('australia', -inf),\n",
       " ('south korea', -inf),\n",
       " ('spain', -inf),\n",
       " ('hong kong', -inf),\n",
       " ('saudi arabia', -inf),\n",
       " ('iraq', -inf),\n",
       " ('california', -inf),\n",
       " ('india', -inf),\n",
       " ('chicago', -inf),\n",
       " ('february', -inf),\n",
       " ('malaysia', -inf),\n",
       " ('ussr', -inf),\n",
       " ('moscow', -inf),\n",
       " ('singapore', -inf),\n",
       " ('thailand', -inf)]"
      ]
     },
     "execution_count": 71,
     "metadata": {},
     "output_type": "execute_result"
    }
   ],
   "source": [
    "########################################################################\n",
    "######################### Write your code here #########################\n",
    "########################################################################\n",
    "import numpy as np\n",
    "\n",
    "GPE_ORG_lemma_lists = list(map(lambda x: [y.lemma_.lower() for y in x.ents if y.label_ == 'ORG' or y.label == 'GPE'], reuters_nlp))\n",
    "GPE_list, GPE_occurence = zip(*sorted_GPE_counter)\n",
    "GPE_prob = list(map(lambda x: (x[0], x[1] / len(reuters_fileids)), sorted_GPE_counter))\n",
    "OPEC_prob = ORG_counter['opec'] / len(reuters_fileids)\n",
    "co_occur_prob = list(map(lambda x: (x, len(list(filter(lambda y: x in y and 'opec' in y, GPE_ORG_lemma_lists))) / len(reuters_fileids)), GPE_list))\n",
    "independent_prob = list(map(lambda x: (x[0], x[1] * OPEC_prob), GPE_prob))\n",
    "\n",
    "pmi = list(map(lambda i: (co_occur_prob[i][0], np.log2(co_occur_prob[i][1] / independent_prob[i][1])), range(len(co_occur_prob))))\n",
    "pmi_sorted = sorted(pmi, reverse=True, key=lambda x: x[1])\n",
    "pmi_sorted[:50]\n"
   ]
  },
  {
   "cell_type": "markdown",
   "metadata": {},
   "source": [
    "Your text answer (for this question, your answer is *not* code): *** WRITE YOUR ANSWER HERE ***\n",
    "\n",
    "**Answer:**\n",
    "\n",
    "1. Unsurprisingly, some oil exporter countries or corporations/organizations in the oil industry, such as the UAE, Kuwait, BP, etc., are in the top places in the list.\n",
    "\n",
    "2. Unexpectedly, many countries, such as the US, UK, Russia, etc., have negative infinity PMI with OPEC, which means there are no co-occurence between these entities and OPEC in the 10,000 articles."
   ]
  },
  {
   "cell_type": "markdown",
   "metadata": {},
   "source": [
    "### [Problem 3] Questionnaire [5 pts]\n",
    "\n",
    "Please provide feedback! To receive the 5 points, be sure to enter your Andrew ID correctly in this Google form: https://forms.gle/3XY8wdBDEKteN1xn9"
   ]
  }
 ],
 "metadata": {
  "anaconda-cloud": {},
  "interpreter": {
   "hash": "8ab0d968002a578cf1e1aa041721a175249ba338f6da29efa5ef1a380c630376"
  },
  "kernelspec": {
   "display_name": "Python 3.7.11 64-bit ('base': conda)",
   "name": "python3"
  },
  "language_info": {
   "codemirror_mode": {
    "name": "ipython",
    "version": 3
   },
   "file_extension": ".py",
   "mimetype": "text/x-python",
   "name": "python",
   "nbconvert_exporter": "python",
   "pygments_lexer": "ipython3",
   "version": "3.7.11"
  }
 },
 "nbformat": 4,
 "nbformat_minor": 2
}
