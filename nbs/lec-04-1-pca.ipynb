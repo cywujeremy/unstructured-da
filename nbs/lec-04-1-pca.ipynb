{
 "cells": [
  {
   "cell_type": "markdown",
   "metadata": {},
   "source": [
    "# 94-775/95-865: PCA Demo\n",
    "Author: George Chen (georgechen [at symbol] cmu.edu)\n",
    "\n",
    "This demo is heavily based on Mark Richardson's 2009 \"Principle Component Analysis\" notes and uses data he pulled from DEFRA on 1997 UK food consumption (grams/person/week). This dataset is also used as a nice illustrated example of PCA here:\n",
    "http://setosa.io/ev/principal-component-analysis/"
   ]
  },
  {
   "cell_type": "code",
   "execution_count": 2,
   "metadata": {},
   "outputs": [],
   "source": [
    "%matplotlib inline\n",
    "import matplotlib.pyplot as plt\n",
    "plt.style.use('seaborn')  # prettier plots\n",
    "import numpy as np\n",
    "\n",
    "# grams per person per week\n",
    "food_data = np.array([[105, 103, 103, 66],\n",
    "                      [245, 227, 242, 267],\n",
    "                      [685, 803, 750, 586],\n",
    "                      [147, 160, 122, 93],\n",
    "                      [193, 235, 184, 209], \n",
    "                      [156, 175, 147, 139],\n",
    "                      [720, 874, 566, 1033],\n",
    "                      [253, 265, 171, 143],\n",
    "                      [488, 570, 418, 355],\n",
    "                      [198, 203, 220, 187],\n",
    "                      [360, 365, 337, 334],\n",
    "                      [1102, 1137, 957, 674],\n",
    "                      [1472, 1582, 1462, 1494],\n",
    "                      [57, 73, 53, 47],\n",
    "                      [1374, 1256, 1572, 1506],\n",
    "                      [375, 475, 458, 135],\n",
    "                      [54, 64, 62, 41]])\n",
    "row_labels = ['Cheese',\n",
    "              'Carcass meat',\n",
    "              'Other meat',\n",
    "              'Fish',\n",
    "              'Fats and oils',\n",
    "              'Sugars',\n",
    "              'Fresh potatoes',\n",
    "              'Fresh Veg',\n",
    "              'Other Veg',\n",
    "              'Processed potatoes',\n",
    "              'Processed Veg',\n",
    "              'Fresh fruit',\n",
    "              'Cereals',\n",
    "              'Beverages',\n",
    "              'Soft drinks',\n",
    "              'Alcoholic drinks',\n",
    "              'Confectionary']\n",
    "column_labels = ['England', 'Wales', 'Scotland', 'N Ireland']"
   ]
  },
  {
   "cell_type": "code",
   "execution_count": 3,
   "metadata": {},
   "outputs": [
    {
     "name": "stdout",
     "output_type": "stream",
     "text": [
      "                            England          Wales       Scotland      N Ireland\n",
      "Cheese                          105            103            103             66\n",
      "Carcass meat                    245            227            242            267\n",
      "Other meat                      685            803            750            586\n",
      "Fish                            147            160            122             93\n",
      "Fats and oils                   193            235            184            209\n",
      "Sugars                          156            175            147            139\n",
      "Fresh potatoes                  720            874            566           1033\n",
      "Fresh Veg                       253            265            171            143\n",
      "Other Veg                       488            570            418            355\n",
      "Processed potatoes              198            203            220            187\n",
      "Processed Veg                   360            365            337            334\n",
      "Fresh fruit                    1102           1137            957            674\n",
      "Cereals                        1472           1582           1462           1494\n",
      "Beverages                        57             73             53             47\n",
      "Soft drinks                    1374           1256           1572           1506\n",
      "Alcoholic drinks                375            475            458            135\n",
      "Confectionary                    54             64             62             41\n"
     ]
    }
   ],
   "source": [
    "# printing out the table using some basic Python\n",
    "\n",
    "first_column_width = 20\n",
    "other_columns_width = 15\n",
    "\n",
    "# print header\n",
    "print(\"\".ljust(first_column_width), end='')\n",
    "for column_label in column_labels:\n",
    "    print(column_label.rjust(other_columns_width), end='')\n",
    "print()\n",
    "\n",
    "# print each row in the numpy array with a column label\n",
    "for row_label, row in zip(row_labels, food_data):\n",
    "    print(row_label.ljust(first_column_width), end='')\n",
    "    print(\"\".join([(\"%d\" % x).rjust(other_columns_width) for x in row]))"
   ]
  },
  {
   "cell_type": "code",
   "execution_count": 4,
   "metadata": {},
   "outputs": [
    {
     "data": {
      "text/html": [
       "<div>\n",
       "<style scoped>\n",
       "    .dataframe tbody tr th:only-of-type {\n",
       "        vertical-align: middle;\n",
       "    }\n",
       "\n",
       "    .dataframe tbody tr th {\n",
       "        vertical-align: top;\n",
       "    }\n",
       "\n",
       "    .dataframe thead th {\n",
       "        text-align: right;\n",
       "    }\n",
       "</style>\n",
       "<table border=\"1\" class=\"dataframe\">\n",
       "  <thead>\n",
       "    <tr style=\"text-align: right;\">\n",
       "      <th></th>\n",
       "      <th>England</th>\n",
       "      <th>Wales</th>\n",
       "      <th>Scotland</th>\n",
       "      <th>N Ireland</th>\n",
       "    </tr>\n",
       "  </thead>\n",
       "  <tbody>\n",
       "    <tr>\n",
       "      <th>Cheese</th>\n",
       "      <td>105</td>\n",
       "      <td>103</td>\n",
       "      <td>103</td>\n",
       "      <td>66</td>\n",
       "    </tr>\n",
       "    <tr>\n",
       "      <th>Carcass meat</th>\n",
       "      <td>245</td>\n",
       "      <td>227</td>\n",
       "      <td>242</td>\n",
       "      <td>267</td>\n",
       "    </tr>\n",
       "    <tr>\n",
       "      <th>Other meat</th>\n",
       "      <td>685</td>\n",
       "      <td>803</td>\n",
       "      <td>750</td>\n",
       "      <td>586</td>\n",
       "    </tr>\n",
       "    <tr>\n",
       "      <th>Fish</th>\n",
       "      <td>147</td>\n",
       "      <td>160</td>\n",
       "      <td>122</td>\n",
       "      <td>93</td>\n",
       "    </tr>\n",
       "    <tr>\n",
       "      <th>Fats and oils</th>\n",
       "      <td>193</td>\n",
       "      <td>235</td>\n",
       "      <td>184</td>\n",
       "      <td>209</td>\n",
       "    </tr>\n",
       "    <tr>\n",
       "      <th>Sugars</th>\n",
       "      <td>156</td>\n",
       "      <td>175</td>\n",
       "      <td>147</td>\n",
       "      <td>139</td>\n",
       "    </tr>\n",
       "    <tr>\n",
       "      <th>Fresh potatoes</th>\n",
       "      <td>720</td>\n",
       "      <td>874</td>\n",
       "      <td>566</td>\n",
       "      <td>1033</td>\n",
       "    </tr>\n",
       "    <tr>\n",
       "      <th>Fresh Veg</th>\n",
       "      <td>253</td>\n",
       "      <td>265</td>\n",
       "      <td>171</td>\n",
       "      <td>143</td>\n",
       "    </tr>\n",
       "    <tr>\n",
       "      <th>Other Veg</th>\n",
       "      <td>488</td>\n",
       "      <td>570</td>\n",
       "      <td>418</td>\n",
       "      <td>355</td>\n",
       "    </tr>\n",
       "    <tr>\n",
       "      <th>Processed potatoes</th>\n",
       "      <td>198</td>\n",
       "      <td>203</td>\n",
       "      <td>220</td>\n",
       "      <td>187</td>\n",
       "    </tr>\n",
       "    <tr>\n",
       "      <th>Processed Veg</th>\n",
       "      <td>360</td>\n",
       "      <td>365</td>\n",
       "      <td>337</td>\n",
       "      <td>334</td>\n",
       "    </tr>\n",
       "    <tr>\n",
       "      <th>Fresh fruit</th>\n",
       "      <td>1102</td>\n",
       "      <td>1137</td>\n",
       "      <td>957</td>\n",
       "      <td>674</td>\n",
       "    </tr>\n",
       "    <tr>\n",
       "      <th>Cereals</th>\n",
       "      <td>1472</td>\n",
       "      <td>1582</td>\n",
       "      <td>1462</td>\n",
       "      <td>1494</td>\n",
       "    </tr>\n",
       "    <tr>\n",
       "      <th>Beverages</th>\n",
       "      <td>57</td>\n",
       "      <td>73</td>\n",
       "      <td>53</td>\n",
       "      <td>47</td>\n",
       "    </tr>\n",
       "    <tr>\n",
       "      <th>Soft drinks</th>\n",
       "      <td>1374</td>\n",
       "      <td>1256</td>\n",
       "      <td>1572</td>\n",
       "      <td>1506</td>\n",
       "    </tr>\n",
       "    <tr>\n",
       "      <th>Alcoholic drinks</th>\n",
       "      <td>375</td>\n",
       "      <td>475</td>\n",
       "      <td>458</td>\n",
       "      <td>135</td>\n",
       "    </tr>\n",
       "    <tr>\n",
       "      <th>Confectionary</th>\n",
       "      <td>54</td>\n",
       "      <td>64</td>\n",
       "      <td>62</td>\n",
       "      <td>41</td>\n",
       "    </tr>\n",
       "  </tbody>\n",
       "</table>\n",
       "</div>"
      ],
      "text/plain": [
       "                    England  Wales  Scotland  N Ireland\n",
       "Cheese                  105    103       103         66\n",
       "Carcass meat            245    227       242        267\n",
       "Other meat              685    803       750        586\n",
       "Fish                    147    160       122         93\n",
       "Fats and oils           193    235       184        209\n",
       "Sugars                  156    175       147        139\n",
       "Fresh potatoes          720    874       566       1033\n",
       "Fresh Veg               253    265       171        143\n",
       "Other Veg               488    570       418        355\n",
       "Processed potatoes      198    203       220        187\n",
       "Processed Veg           360    365       337        334\n",
       "Fresh fruit            1102   1137       957        674\n",
       "Cereals                1472   1582      1462       1494\n",
       "Beverages                57     73        53         47\n",
       "Soft drinks            1374   1256      1572       1506\n",
       "Alcoholic drinks        375    475       458        135\n",
       "Confectionary            54     64        62         41"
      ]
     },
     "execution_count": 4,
     "metadata": {},
     "output_type": "execute_result"
    }
   ],
   "source": [
    "# printing out the table using Pandas\n",
    "\n",
    "import pandas\n",
    "df = pandas.DataFrame(food_data, columns=column_labels, index=row_labels)\n",
    "df"
   ]
  },
  {
   "cell_type": "code",
   "execution_count": 5,
   "metadata": {},
   "outputs": [
    {
     "data": {
      "text/plain": [
       "array([[ 105,  245,  685,  147,  193,  156,  720,  253,  488,  198,  360,\n",
       "        1102, 1472,   57, 1374,  375,   54],\n",
       "       [ 103,  227,  803,  160,  235,  175,  874,  265,  570,  203,  365,\n",
       "        1137, 1582,   73, 1256,  475,   64],\n",
       "       [ 103,  242,  750,  122,  184,  147,  566,  171,  418,  220,  337,\n",
       "         957, 1462,   53, 1572,  458,   62],\n",
       "       [  66,  267,  586,   93,  209,  139, 1033,  143,  355,  187,  334,\n",
       "         674, 1494,   47, 1506,  135,   41]])"
      ]
     },
     "execution_count": 5,
     "metadata": {},
     "output_type": "execute_result"
    }
   ],
   "source": [
    "food_data.T"
   ]
  },
  {
   "cell_type": "code",
   "execution_count": 6,
   "metadata": {},
   "outputs": [
    {
     "data": {
      "text/plain": [
       "(4, 17)"
      ]
     },
     "execution_count": 6,
     "metadata": {},
     "output_type": "execute_result"
    }
   ],
   "source": [
    "food_data.T.shape"
   ]
  },
  {
   "cell_type": "code",
   "execution_count": 7,
   "metadata": {},
   "outputs": [
    {
     "data": {
      "text/plain": [
       "([<matplotlib.axis.XTick at 0x2db64547548>,\n",
       "  <matplotlib.axis.XTick at 0x2db6453d1c8>,\n",
       "  <matplotlib.axis.XTick at 0x2db64342048>,\n",
       "  <matplotlib.axis.XTick at 0x2db645b74c8>,\n",
       "  <matplotlib.axis.XTick at 0x2db645bd408>,\n",
       "  <matplotlib.axis.XTick at 0x2db645c3308>,\n",
       "  <matplotlib.axis.XTick at 0x2db645c3d08>,\n",
       "  <matplotlib.axis.XTick at 0x2db645c7c08>,\n",
       "  <matplotlib.axis.XTick at 0x2db645c3fc8>,\n",
       "  <matplotlib.axis.XTick at 0x2db645bdfc8>,\n",
       "  <matplotlib.axis.XTick at 0x2db645ceb08>,\n",
       "  <matplotlib.axis.XTick at 0x2db645d18c8>,\n",
       "  <matplotlib.axis.XTick at 0x2db645d7688>,\n",
       "  <matplotlib.axis.XTick at 0x2db645db508>,\n",
       "  <matplotlib.axis.XTick at 0x2db645de408>,\n",
       "  <matplotlib.axis.XTick at 0x2db645de2c8>,\n",
       "  <matplotlib.axis.XTick at 0x2db645e4088>],\n",
       " [Text(0, 0, 'Cheese'),\n",
       "  Text(1, 0, 'Carcass meat'),\n",
       "  Text(2, 0, 'Other meat'),\n",
       "  Text(3, 0, 'Fish'),\n",
       "  Text(4, 0, 'Fats and oils'),\n",
       "  Text(5, 0, 'Sugars'),\n",
       "  Text(6, 0, 'Fresh potatoes'),\n",
       "  Text(7, 0, 'Fresh Veg'),\n",
       "  Text(8, 0, 'Other Veg'),\n",
       "  Text(9, 0, 'Processed potatoes'),\n",
       "  Text(10, 0, 'Processed Veg'),\n",
       "  Text(11, 0, 'Fresh fruit'),\n",
       "  Text(12, 0, 'Cereals'),\n",
       "  Text(13, 0, 'Beverages'),\n",
       "  Text(14, 0, 'Soft drinks'),\n",
       "  Text(15, 0, 'Alcoholic drinks'),\n",
       "  Text(16, 0, 'Confectionary')])"
      ]
     },
     "execution_count": 7,
     "metadata": {},
     "output_type": "execute_result"
    },
    {
     "data": {
      "image/png": "[encoded data removed]",
      "text/plain": [
       "<Figure size 576x396 with 1 Axes>"
      ]
     },
     "metadata": {},
     "output_type": "display_data"
    }
   ],
   "source": [
    "plt.bar(range(len(row_labels)), food_data[:, 0])\n",
    "plt.xticks(range(len(row_labels)), row_labels, rotation=90)"
   ]
  },
  {
   "cell_type": "code",
   "execution_count": 8,
   "metadata": {},
   "outputs": [
    {
     "data": {
      "text/plain": [
       "([<matplotlib.axis.XTick at 0x2db646aa448>,\n",
       "  <matplotlib.axis.XTick at 0x2db646a6688>,\n",
       "  <matplotlib.axis.XTick at 0x2db6469ecc8>,\n",
       "  <matplotlib.axis.XTick at 0x2db64702e88>,\n",
       "  <matplotlib.axis.XTick at 0x2db64706b48>,\n",
       "  <matplotlib.axis.XTick at 0x2db64708a08>,\n",
       "  <matplotlib.axis.XTick at 0x2db64710948>,\n",
       "  <matplotlib.axis.XTick at 0x2db64713848>,\n",
       "  <matplotlib.axis.XTick at 0x2db64719748>,\n",
       "  <matplotlib.axis.XTick at 0x2db64719608>,\n",
       "  <matplotlib.axis.XTick at 0x2db6471da88>,\n",
       "  <matplotlib.axis.XTick at 0x2db64721448>,\n",
       "  <matplotlib.axis.XTick at 0x2db64723208>,\n",
       "  <matplotlib.axis.XTick at 0x2db64727448>,\n",
       "  <matplotlib.axis.XTick at 0x2db64727d48>,\n",
       "  <matplotlib.axis.XTick at 0x2db6472cb48>,\n",
       "  <matplotlib.axis.XTick at 0x2db64727748>],\n",
       " [Text(0, 0, 'Cheese'),\n",
       "  Text(1, 0, 'Carcass meat'),\n",
       "  Text(2, 0, 'Other meat'),\n",
       "  Text(3, 0, 'Fish'),\n",
       "  Text(4, 0, 'Fats and oils'),\n",
       "  Text(5, 0, 'Sugars'),\n",
       "  Text(6, 0, 'Fresh potatoes'),\n",
       "  Text(7, 0, 'Fresh Veg'),\n",
       "  Text(8, 0, 'Other Veg'),\n",
       "  Text(9, 0, 'Processed potatoes'),\n",
       "  Text(10, 0, 'Processed Veg'),\n",
       "  Text(11, 0, 'Fresh fruit'),\n",
       "  Text(12, 0, 'Cereals'),\n",
       "  Text(13, 0, 'Beverages'),\n",
       "  Text(14, 0, 'Soft drinks'),\n",
       "  Text(15, 0, 'Alcoholic drinks'),\n",
       "  Text(16, 0, 'Confectionary')])"
      ]
     },
     "execution_count": 8,
     "metadata": {},
     "output_type": "execute_result"
    },
    {
     "data": {
      "image/png": "[encoded data removed]",
      "text/plain": [
       "<Figure size 576x396 with 1 Axes>"
      ]
     },
     "metadata": {},
     "output_type": "display_data"
    }
   ],
   "source": [
    "plt.bar(range(len(row_labels)), food_data[:, 1])\n",
    "plt.xticks(range(len(row_labels)), row_labels, rotation=90)"
   ]
  },
  {
   "cell_type": "code",
   "execution_count": 64,
   "metadata": {},
   "outputs": [],
   "source": [
    "from sklearn.decomposition import PCA\n",
    "\n",
    "single_dimension_pca = PCA(n_components=4)  # project data down to a single dimension\n",
    "\n",
    "# single_dimension_pca.fit(food_data.T)\n",
    "\n",
    "single_dimension_food_data = single_dimension_pca.fit_transform(food_data)"
   ]
  },
  {
   "cell_type": "code",
   "execution_count": 65,
   "metadata": {},
   "outputs": [
    {
     "data": {
      "text/plain": [
       "array([[-1.44993152e+02, -2.53299944e+00,  1.05768945e+02,\n",
       "         3.62740632e-14],\n",
       "       [-2.40529148e+02, -2.24646925e+02, -5.64755547e+01,\n",
       "         3.62740632e-14],\n",
       "       [-9.18693390e+01,  2.86081786e+02, -4.44154950e+01,\n",
       "         3.62740632e-14],\n",
       "       [ 4.77391639e+02, -5.89018618e+01, -4.87789535e+00,\n",
       "         3.62740632e-14]])"
      ]
     },
     "execution_count": 65,
     "metadata": {},
     "output_type": "execute_result"
    }
   ],
   "source": [
    "single_dimension_food_data"
   ]
  },
  {
   "cell_type": "code",
   "execution_count": 11,
   "metadata": {},
   "outputs": [
    {
     "data": {
      "image/png": "[encoded data removed]",
      "text/plain": [
       "<Figure size 576x396 with 1 Axes>"
      ]
     },
     "metadata": {},
     "output_type": "display_data"
    }
   ],
   "source": [
    "# matplotlib doesn't have a built-in 1D scatter plot but we can\n",
    "# just use a 2D scatter plot with y-axis values all set to 0\n",
    "y_axis_all_zeros = np.zeros(len(single_dimension_food_data))\n",
    "\n",
    "plt.scatter(single_dimension_food_data, y_axis_all_zeros)\n",
    "for idx in range(len(single_dimension_food_data)):\n",
    "    plt.annotate(column_labels[idx],\n",
    "                 (single_dimension_food_data[idx],\n",
    "                  y_axis_all_zeros[idx]), rotation=90)\n"
   ]
  },
  {
   "cell_type": "code",
   "execution_count": 12,
   "metadata": {},
   "outputs": [],
   "source": [
    "# single_dimension_pca.explained_variance_ratio_\n",
    "\n",
    "# plt.plot([1, 2, 3, 4], single_dimension_pca.explained_variance_ratio_)\n",
    "# plt.show()"
   ]
  },
  {
   "cell_type": "markdown",
   "metadata": {},
   "source": [
    "For any data point in the original 17-dimensional space, we can see what the PCA single-dimensional representation is using the `transform` function. For example, in the next cell, we compute the 1D projections for both England and Wales. However, we could actually plug in data that we didn't fit the PCA model with (for example, if we collected the 17 measurements for Pennsylvania, we could use it with transform as well, etc)."
   ]
  },
  {
   "cell_type": "code",
   "execution_count": 13,
   "metadata": {},
   "outputs": [
    {
     "data": {
      "text/plain": [
       "[array([ 105,  245,  685,  147,  193,  156,  720,  253,  488,  198,  360,\n",
       "        1102, 1472,   57, 1374,  375,   54]),\n",
       " array([ 103,  227,  803,  160,  235,  175,  874,  265,  570,  203,  365,\n",
       "        1137, 1582,   73, 1256,  475,   64])]"
      ]
     },
     "execution_count": 13,
     "metadata": {},
     "output_type": "execute_result"
    }
   ],
   "source": [
    "[food_data[:, 0], food_data[:, 1]]"
   ]
  },
  {
   "cell_type": "code",
   "execution_count": 14,
   "metadata": {},
   "outputs": [
    {
     "data": {
      "text/plain": [
       "array([[-144.99315218],\n",
       "       [-240.52914764]])"
      ]
     },
     "execution_count": 14,
     "metadata": {},
     "output_type": "execute_result"
    }
   ],
   "source": [
    "single_dimension_pca.transform([food_data[:, 0], food_data[:, 1]])"
   ]
  },
  {
   "cell_type": "markdown",
   "metadata": {},
   "source": [
    "Here, we use transform to find the 1D PCA representation for a completely made-up feature vector of food/drink consumption values:"
   ]
  },
  {
   "cell_type": "code",
   "execution_count": 15,
   "metadata": {},
   "outputs": [
    {
     "data": {
      "text/plain": [
       "array([[543.79528741]])"
      ]
     },
     "execution_count": 15,
     "metadata": {},
     "output_type": "execute_result"
    }
   ],
   "source": [
    "single_dimension_pca.transform([[0, 1, 2, 3, 4, 5, 6, 7, 8, 9, 10, 11, 12, 13, 14, 15, 16]])"
   ]
  },
  {
   "cell_type": "markdown",
   "metadata": {},
   "source": [
    "## Interpretation\n",
    "\n",
    "How do we interpret the low-dimensional representation? Why is North Ireland so far away from the other points? One way to try to answer this question is to first look at what features (i.e., what specific food/drink items) are being assigned high weight by PCA:"
   ]
  },
  {
   "cell_type": "code",
   "execution_count": 66,
   "metadata": {},
   "outputs": [
    {
     "name": "stdout",
     "output_type": "stream",
     "text": [
      "[[-0.05695538  0.04792763 -0.25891666 -0.08441498 -0.00519362 -0.03762098\n",
      "   0.40140206 -0.15184994 -0.24359373 -0.02688623 -0.03648827 -0.6326409\n",
      "  -0.04770286 -0.02618776  0.23224414 -0.46396817 -0.0296502 ]\n",
      " [ 0.01601285  0.01391582 -0.01533114 -0.05075495 -0.09538866 -0.0430217\n",
      "  -0.71501708 -0.14490027 -0.22545092  0.04285076 -0.0454518  -0.17774074\n",
      "  -0.21259968 -0.03056054  0.55512431  0.11353652  0.00594992]\n",
      " [ 0.02394295  0.06367111 -0.55384854  0.03906481 -0.12522257 -0.03605745\n",
      "  -0.20668248  0.21382237 -0.05332841 -0.07364902  0.05289191  0.40012865\n",
      "  -0.35884921 -0.0413586  -0.16942648 -0.4985832  -0.05232164]\n",
      " [-0.69171804  0.63538491  0.19817592 -0.01582463  0.05234744  0.01448135\n",
      "  -0.15170609  0.05618243 -0.08072262 -0.02261871  0.009235   -0.02189909\n",
      "   0.08466726 -0.01188082 -0.14436705 -0.1157976  -0.00369502]]\n"
     ]
    }
   ],
   "source": [
    "print(single_dimension_pca.components_)  # index 0 is for the 1st principal component (since Python starts counting at 0)"
   ]
  },
  {
   "cell_type": "code",
   "execution_count": 67,
   "metadata": {},
   "outputs": [
    {
     "data": {
      "text/plain": [
       "array([1.05073346e+05, 4.52616249e+04, 5.45769602e+03, 1.75441022e-27])"
      ]
     },
     "execution_count": 67,
     "metadata": {},
     "output_type": "execute_result"
    }
   ],
   "source": [
    "single_dimension_pca.explained_variance_"
   ]
  },
  {
   "cell_type": "markdown",
   "metadata": {},
   "source": [
    "Importantly, how PCA (that has already been fitted) actually projects a data point to 1D is to take a weighted combination using the above weights (although it first subtracts off the feature means). Specifically, here are the calculations for England and Wales:"
   ]
  },
  {
   "cell_type": "code",
   "execution_count": 17,
   "metadata": {},
   "outputs": [
    {
     "data": {
      "text/plain": [
       "array([ 105,  245,  685,  147,  193,  156,  720,  253,  488,  198,  360,\n",
       "       1102, 1472,   57, 1374,  375,   54])"
      ]
     },
     "execution_count": 17,
     "metadata": {},
     "output_type": "execute_result"
    }
   ],
   "source": [
    "food_data[:, 0]"
   ]
  },
  {
   "cell_type": "code",
   "execution_count": 18,
   "metadata": {},
   "outputs": [
    {
     "data": {
      "text/plain": [
       "array([  94.25,  245.25,  706.  ,  130.5 ,  205.25,  154.25,  798.25,\n",
       "        208.  ,  457.75,  202.  ,  349.  ,  967.5 , 1502.5 ,   57.5 ,\n",
       "       1427.  ,  360.75,   55.25])"
      ]
     },
     "execution_count": 18,
     "metadata": {},
     "output_type": "execute_result"
    }
   ],
   "source": [
    "single_dimension_pca.mean_"
   ]
  },
  {
   "cell_type": "code",
   "execution_count": 19,
   "metadata": {},
   "outputs": [
    {
     "data": {
      "text/plain": [
       "-144.9931521820767"
      ]
     },
     "execution_count": 19,
     "metadata": {},
     "output_type": "execute_result"
    }
   ],
   "source": [
    "np.inner(single_dimension_pca.components_[0],\n",
    "         food_data[:, 0] - single_dimension_pca.mean_)"
   ]
  },
  {
   "cell_type": "code",
   "execution_count": 20,
   "metadata": {},
   "outputs": [
    {
     "data": {
      "text/plain": [
       "-240.52914763517657"
      ]
     },
     "execution_count": 20,
     "metadata": {},
     "output_type": "execute_result"
    }
   ],
   "source": [
    "np.inner(single_dimension_pca.components_[0],\n",
    "         food_data[:, 1] - single_dimension_pca.mean_)"
   ]
  },
  {
   "cell_type": "markdown",
   "metadata": {},
   "source": [
    "Weights with larger absolute value correspond to features that lead to the largest spread along the projected 1D axis."
   ]
  },
  {
   "cell_type": "markdown",
   "metadata": {},
   "source": [
    "Here's some code to rank the weights by largest absolute value to smallest absolute value:"
   ]
  },
  {
   "cell_type": "code",
   "execution_count": 21,
   "metadata": {},
   "outputs": [
    {
     "name": "stdout",
     "output_type": "stream",
     "text": [
      "Fresh fruit : -0.6326408978722374\n",
      "Alcoholic drinks : -0.46396816797670615\n",
      "Fresh potatoes : 0.40140206029624825\n",
      "Other meat : -0.25891665833612115\n",
      "Other Veg : -0.2435937289902742\n",
      "Soft drinks : 0.23224414047289438\n",
      "Fresh Veg : -0.1518499415623022\n",
      "Fish : -0.08441498252508356\n",
      "Cheese : -0.05695537978568511\n",
      "Carcass meat : 0.04792762813468524\n",
      "Cereals : -0.04770285837364884\n",
      "Sugars : -0.03762098283940195\n",
      "Processed Veg : -0.03648826911159385\n",
      "Confectionary : -0.029650201087993863\n",
      "Processed potatoes : -0.026886232536746924\n",
      "Beverages : -0.026187755908533446\n",
      "Fats and oils : -0.005193622660047695\n"
     ]
    }
   ],
   "source": [
    "abs_val_of_1st_principal_component_weights = np.abs(single_dimension_pca.components_[0])\n",
    "\n",
    "# in the previous lecture we saw the `sorted` function; now we introduce numpy's `argsort`,\n",
    "# which does *not* return the sorted list but instead returns the rearranged indices that\n",
    "# would sort the list (put another way, it returns rankings)\n",
    "ranking_of_largest_to_smallest = np.argsort(-abs_val_of_1st_principal_component_weights)  # use negative to get largest to smallest\n",
    "\n",
    "# now print out the food items having highest to lowest absolute value weight\n",
    "for rank in ranking_of_largest_to_smallest:\n",
    "    print(row_labels[rank], ':', single_dimension_pca.components_[0][rank])"
   ]
  },
  {
   "cell_type": "markdown",
   "metadata": {},
   "source": [
    "At this point, we leave the following as an exercise to you: for a few of the food/drink items with the highest absolute value weight, compare the values between the different regions of the UK. Can you see why North Ireland is considered very different from the other regions?"
   ]
  },
  {
   "cell_type": "code",
   "execution_count": 74,
   "metadata": {},
   "outputs": [
    {
     "data": {
      "text/plain": [
       "array([[ 105,  245,  685,  147,  193,  156,  720,  253,  488,  198,  360,\n",
       "        1102, 1472,   57, 1374,  375,   54],\n",
       "       [ 103,  227,  803,  160,  235,  175,  874,  265,  570,  203,  365,\n",
       "        1137, 1582,   73, 1256,  475,   64],\n",
       "       [ 103,  242,  750,  122,  184,  147,  566,  171,  418,  220,  337,\n",
       "         957, 1462,   53, 1572,  458,   62],\n",
       "       [  66,  267,  586,   93,  209,  139, 1033,  143,  355,  187,  334,\n",
       "         674, 1494,   47, 1506,  135,   41]])"
      ]
     },
     "execution_count": 74,
     "metadata": {},
     "output_type": "execute_result"
    }
   ],
   "source": [
    "food_data"
   ]
  },
  {
   "cell_type": "code",
   "execution_count": 77,
   "metadata": {},
   "outputs": [
    {
     "data": {
      "text/plain": [
       "array([[1757170.  , 1837975.75, 1756151.25, 1681642.5 ],\n",
       "       [1837975.75, 1939977.75, 1825753.5 , 1755201.25],\n",
       "       [1756151.25, 1825753.5 , 1782301.5 , 1688976.75],\n",
       "       [1681642.5 , 1755201.25, 1688976.75, 1706810.75]])"
      ]
     },
     "execution_count": 77,
     "metadata": {},
     "output_type": "execute_result"
    }
   ],
   "source": [
    "cov_matrix = (food_data @ food_data.T) / 4\n",
    "\n",
    "cov_matrix"
   ]
  },
  {
   "cell_type": "code",
   "execution_count": 78,
   "metadata": {},
   "outputs": [
    {
     "data": {
      "text/plain": [
       "(array([3.31052785e+03, 3.30925616e+04, 7.53988257e+04, 7.07445808e+06]),\n",
       " array([[-0.82545796, -0.03427257, -0.26482845, -0.49730317],\n",
       "        [ 0.46171506, -0.60752886, -0.38327141, -0.52041418],\n",
       "        [ 0.32423155,  0.78442661, -0.17570042, -0.4986764 ],\n",
       "        [ 0.01767114, -0.12003734,  0.867236  , -0.48288765]]))"
      ]
     },
     "execution_count": 78,
     "metadata": {},
     "output_type": "execute_result"
    }
   ],
   "source": [
    "eigvalues, B = np.linalg.eigh(cov_matrix)\n",
    "eigvalues, B"
   ]
  },
  {
   "cell_type": "code",
   "execution_count": 81,
   "metadata": {},
   "outputs": [
    {
     "data": {
      "text/plain": [
       "array([[-0.03528196, -0.03117976,  0.0466291 ,  0.0534261 ],\n",
       "       [-0.09551217, -0.09096178,  0.05978202,  0.0660294 ],\n",
       "       [-0.2542232 , -0.27093971,  0.31265557,  0.32225397],\n",
       "       [-0.04821182, -0.04414907,  0.07696553,  0.05039847],\n",
       "       [-0.07512426, -0.08261204,  0.08062304,  0.03852175],\n",
       "       [-0.05700044, -0.05779499,  0.06772661,  0.04792503],\n",
       "       [-0.30231912, -0.33799406,  0.2224099 , -0.11398089],\n",
       "       [-0.0784789 , -0.0653032 ,  0.1377372 ,  0.05906954],\n",
       "       [-0.16657122, -0.16523664,  0.25924162,  0.14940189],\n",
       "       [-0.07550542, -0.07573174,  0.06686392,  0.09061321],\n",
       "       [-0.1326328 , -0.12714216,  0.12949843,  0.10643039],\n",
       "       [-0.36085257, -0.31899795,  0.54419188,  0.4409501 ],\n",
       "       [-0.56324457, -0.57426981,  0.52329342,  0.43538289],\n",
       "       [-0.02041347, -0.022273  ,  0.03140806,  0.0176534 ],\n",
       "       [-0.5498717 , -0.53724496,  0.29478188,  0.57991397],\n",
       "       [-0.12071571, -0.12810532,  0.25304839,  0.32048277],\n",
       "       [-0.01961883, -0.0209411 ,  0.02657076,  0.03100217]])"
      ]
     },
     "execution_count": 81,
     "metadata": {},
     "output_type": "execute_result"
    }
   ],
   "source": [
    "eigs = food_data.T @ B.T\n",
    "eigs\n",
    "\n",
    "for i in range(4):\n",
    "\n",
    "    eigs[:, i] = eigs[:, i] / np.linalg.norm(eigs[:, i])\n",
    "\n",
    "eigs"
   ]
  },
  {
   "cell_type": "code",
   "execution_count": 82,
   "metadata": {},
   "outputs": [
    {
     "data": {
      "text/plain": [
       "array([[0.00724562, 0.0125213 , 0.04921295, 0.00935899, 0.0110438 ,\n",
       "        0.0095316 , 0.0254862 , 0.01438344, 0.03109916, 0.01298419,\n",
       "        0.02036836, 0.07161129, 0.08543948, 0.00382238, 0.08087967,\n",
       "        0.03717494, 0.00424042],\n",
       "       [0.0125213 , 0.02533039, 0.08889599, 0.01654963, 0.0220532 ,\n",
       "        0.01791467, 0.06538972, 0.02557032, 0.0563027 , 0.02408078,\n",
       "        0.03900234, 0.12513099, 0.16606493, 0.00701901, 0.15730223,\n",
       "        0.05947154, 0.00741418],\n",
       "       [0.04921295, 0.08889599, 0.33963889, 0.06452311, 0.07910224,\n",
       "        0.06676892, 0.20123944, 0.09974408, 0.21631412, 0.08981981,\n",
       "        0.14295222, 0.49040884, 0.6026968 , 0.026733  , 0.56439591,\n",
       "        0.24779138, 0.0289594 ],\n",
       "       [0.00935899, 0.01654963, 0.06452311, 0.01273722, 0.01541575,\n",
       "        0.01292765, 0.04087091, 0.02024472, 0.04280804, 0.01669672,\n",
       "        0.02733852, 0.09558805, 0.11472671, 0.00527455, 0.102144  ,\n",
       "        0.0471035 , 0.00547788],\n",
       "       [0.0110438 , 0.0220532 , 0.07910224, 0.01541575, 0.0204524 ,\n",
       "        0.01636316, 0.0641745 , 0.02467075, 0.05282014, 0.02080999,\n",
       "        0.03500786, 0.11432243, 0.14871615, 0.00658582, 0.13179712,\n",
       "        0.05239881, 0.00654031],\n",
       "       [0.0095316 , 0.01791467, 0.06676892, 0.01292765, 0.01636316,\n",
       "        0.01347301, 0.04636722, 0.02040691, 0.04376213, 0.01755186,\n",
       "        0.02877948, 0.09699406, 0.12160173, 0.00542405, 0.11014997,\n",
       "        0.04678195, 0.0056139 ],\n",
       "       [0.0254862 , 0.06538972, 0.20123944, 0.04087091, 0.0641745 ,\n",
       "        0.04636722, 0.26809464, 0.06969908, 0.14683561, 0.05296663,\n",
       "        0.09974143, 0.28768582, 0.4311397 , 0.01867284, 0.34728563,\n",
       "        0.09954506, 0.01538506],\n",
       "       [0.01438344, 0.02557032, 0.09974408, 0.02024472, 0.02467075,\n",
       "        0.02040691, 0.06969908, 0.03288419, 0.06839512, 0.02543324,\n",
       "        0.04283521, 0.15015308, 0.17949931, 0.00842536, 0.15309482,\n",
       "        0.07162427, 0.00839825],\n",
       "       [0.03109916, 0.0563027 , 0.21631412, 0.04280804, 0.05282014,\n",
       "        0.04376213, 0.14683561, 0.06839512, 0.14457626, 0.05596238,\n",
       "        0.09257363, 0.31977376, 0.38941721, 0.01786034, 0.34342532,\n",
       "        0.15475686, 0.0182482 ],\n",
       "       [0.01298419, 0.02408078, 0.08981981, 0.01669672, 0.02080999,\n",
       "        0.01755186, 0.05296663, 0.02543324, 0.05596238, 0.0241179 ,\n",
       "        0.03794596, 0.1277473 , 0.16045936, 0.0069278 , 0.15446292,\n",
       "        0.06477611, 0.00765306],\n",
       "       [0.02036836, 0.03900234, 0.14295222, 0.02733852, 0.03500786,\n",
       "        0.02877948, 0.09974143, 0.04283521, 0.09257363, 0.03794596,\n",
       "        0.06185386, 0.20582146, 0.26182226, 0.01148549, 0.24113177,\n",
       "        0.09917692, 0.01200504],\n",
       "       [0.07161129, 0.12513099, 0.49040884, 0.09558805, 0.11432243,\n",
       "        0.09699406, 0.28768582, 0.15015308, 0.31977376, 0.1277473 ,\n",
       "        0.20582146, 0.72255605, 0.8631933 , 0.03934758, 0.78593368,\n",
       "        0.36344969, 0.04188967],\n",
       "       [0.08543948, 0.16606493, 0.6026968 , 0.11472671, 0.14871615,\n",
       "        0.12160173, 0.4311397 , 0.17949931, 0.38941721, 0.16045936,\n",
       "        0.26182226, 0.8631933 , 1.11042454, 0.04841011, 1.02497786,\n",
       "        0.41351076, 0.05047816],\n",
       "       [0.00382238, 0.00701901, 0.026733  , 0.00527455, 0.00658582,\n",
       "        0.00542405, 0.01867284, 0.00842536, 0.01786034, 0.0069278 ,\n",
       "        0.01148549, 0.03934758, 0.04841011, 0.00221091, 0.04268683,\n",
       "        0.01892289, 0.00224874],\n",
       "       [0.08087967, 0.15730223, 0.56439591, 0.102144  , 0.13179712,\n",
       "        0.11014997, 0.34728563, 0.15309482, 0.34342532, 0.15446292,\n",
       "        0.24113177, 0.78593368, 1.02497786, 0.04268683, 1.0141876 ,\n",
       "        0.39564861, 0.04784951],\n",
       "       [0.03717494, 0.05947154, 0.24779138, 0.0471035 , 0.05239881,\n",
       "        0.04678195, 0.09954506, 0.07162427, 0.15475686, 0.06477611,\n",
       "        0.09917692, 0.36344969, 0.41351076, 0.01892289, 0.39564861,\n",
       "        0.19772595, 0.02171032],\n",
       "       [0.00424042, 0.00741418, 0.0289594 , 0.00547788, 0.00654031,\n",
       "        0.0056139 , 0.01538506, 0.00839825, 0.0182482 , 0.00765306,\n",
       "        0.01200504, 0.04188967, 0.05047816, 0.00224874, 0.04784951,\n",
       "        0.02171032, 0.00249057]])"
      ]
     },
     "execution_count": 82,
     "metadata": {},
     "output_type": "execute_result"
    }
   ],
   "source": [
    "eigs @ eigs.T"
   ]
  },
  {
   "cell_type": "code",
   "execution_count": 53,
   "metadata": {},
   "outputs": [],
   "source": [
    "a, b, c, d = zip(*eigs)"
   ]
  },
  {
   "cell_type": "code",
   "execution_count": 58,
   "metadata": {},
   "outputs": [],
   "source": [
    "a = a / np.linalg.norm(a)"
   ]
  },
  {
   "cell_type": "code",
   "execution_count": 60,
   "metadata": {},
   "outputs": [
    {
     "data": {
      "text/plain": [
       "array([-0.03528196, -0.09551217, -0.2542232 , -0.04821182, -0.07512426,\n",
       "       -0.05700044, -0.30231912, -0.0784789 , -0.16657122, -0.07550542,\n",
       "       -0.1326328 , -0.36085257, -0.56324457, -0.02041347, -0.5498717 ,\n",
       "       -0.12071571, -0.01961883])"
      ]
     },
     "execution_count": 60,
     "metadata": {},
     "output_type": "execute_result"
    }
   ],
   "source": [
    "a"
   ]
  },
  {
   "cell_type": "code",
   "execution_count": 35,
   "metadata": {},
   "outputs": [
    {
     "data": {
      "text/plain": [
       "array([-1.54664144e-10, -5.66569340e-11, -4.22289955e-11, -1.40210761e-11,\n",
       "       -7.68516976e-12, -2.64285603e-12, -4.01565343e-13,  1.13286382e-13,\n",
       "        3.26032964e-13,  4.93254173e-12,  8.65863834e-12,  1.94787682e-11,\n",
       "        1.83074179e-09,  3.31052785e+03,  3.30925616e+04,  7.53988257e+04,\n",
       "        7.07445808e+06])"
      ]
     },
     "execution_count": 35,
     "metadata": {},
     "output_type": "execute_result"
    }
   ],
   "source": [
    "eigvalues"
   ]
  },
  {
   "cell_type": "code",
   "execution_count": 70,
   "metadata": {},
   "outputs": [
    {
     "data": {
      "text/plain": [
       "array([[ 105,  245,  685,  147,  193,  156,  720,  253,  488,  198,  360,\n",
       "        1102, 1472,   57, 1374,  375,   54],\n",
       "       [ 103,  227,  803,  160,  235,  175,  874,  265,  570,  203,  365,\n",
       "        1137, 1582,   73, 1256,  475,   64],\n",
       "       [ 103,  242,  750,  122,  184,  147,  566,  171,  418,  220,  337,\n",
       "         957, 1462,   53, 1572,  458,   62],\n",
       "       [  66,  267,  586,   93,  209,  139, 1033,  143,  355,  187,  334,\n",
       "         674, 1494,   47, 1506,  135,   41]])"
      ]
     },
     "execution_count": 70,
     "metadata": {},
     "output_type": "execute_result"
    }
   ],
   "source": [
    "food_data"
   ]
  },
  {
   "cell_type": "code",
   "execution_count": 71,
   "metadata": {},
   "outputs": [
    {
     "data": {
      "text/plain": [
       "(array([[-0.49730317, -0.26482845,  0.03427257, -0.82545796],\n",
       "        [-0.52041418, -0.38327141,  0.60752886,  0.46171506],\n",
       "        [-0.4986764 , -0.17570042, -0.78442661,  0.32423155],\n",
       "        [-0.48288765,  0.867236  ,  0.12003734,  0.01767114]]),\n",
       " array([5319.57069128,  549.17693214,  363.82722041,  115.07437338]),\n",
       " array([[-3.55392867e-02, -9.20344923e-02, -2.66097549e-01,\n",
       "         -4.92740717e-02, -7.72537570e-02, -5.81021681e-02,\n",
       "         -2.99643365e-01, -7.85879318e-02, -1.72794373e-01,\n",
       "         -7.59683307e-02, -1.31273514e-01, -3.65149506e-01,\n",
       "         -5.65050213e-01, -2.17051509e-02, -5.35397129e-01,\n",
       "         -1.36715741e-01, -2.08432627e-02],\n",
       "        [-5.12467071e-02,  6.76410987e-02, -2.05306232e-01,\n",
       "         -7.47222033e-02,  1.40988725e-02, -2.48879572e-02,\n",
       "          4.93015352e-01, -1.35836995e-01, -2.06263180e-01,\n",
       "         -1.22384764e-02, -8.71581152e-03, -5.66755012e-01,\n",
       "          7.75956258e-02, -2.11699798e-02,  3.36126973e-01,\n",
       "         -4.45682448e-01, -2.57965248e-02],\n",
       "        [-1.84136414e-02, -3.15409018e-02, -1.82935473e-02,\n",
       "          4.86662642e-02,  8.28338142e-02,  3.58372037e-02,\n",
       "          6.47751390e-01,  1.44833851e-01,  2.13671196e-01,\n",
       "         -5.50056259e-02,  2.70096984e-02,  1.61443631e-01,\n",
       "          1.21112334e-01,  2.85033319e-02, -6.65688608e-01,\n",
       "         -1.14433231e-01, -8.19167136e-03],\n",
       "        [-3.95769253e-02, -1.23795178e-01,  5.11386139e-01,\n",
       "         -5.44712566e-02,  1.08986261e-01,  1.86576699e-02,\n",
       "          9.54041574e-02, -2.47803265e-01,  1.87369349e-02,\n",
       "          4.27803758e-02, -1.17060609e-01, -5.42994128e-01,\n",
       "          1.37183574e-01,  4.05729884e-02, -1.56076366e-01,\n",
       "          5.27064103e-01,  5.04187557e-02],\n",
       "        [-7.36378160e-02,  1.12795871e-01, -8.04879355e-02,\n",
       "          5.32682201e-02,  9.77275343e-01, -8.63929295e-03,\n",
       "         -9.94921228e-02,  5.78125063e-03, -2.81561059e-02,\n",
       "         -4.81927658e-03, -2.87878712e-03,  1.70913123e-02,\n",
       "         -6.95429499e-02, -7.00415411e-03,  1.67389593e-02,\n",
       "         -3.40917683e-02, -4.56063159e-03],\n",
       "        [-6.29198871e-02,  4.19375539e-02, -2.44891820e-02,\n",
       "         -1.16032351e-02, -9.33708877e-03,  9.94387992e-01,\n",
       "         -3.32562741e-02, -7.94020606e-03, -2.23353031e-02,\n",
       "         -3.69661377e-03, -6.94028329e-03, -2.88083722e-02,\n",
       "         -3.95962112e-02, -3.47457548e-03,  2.80160353e-04,\n",
       "         -2.25365741e-02, -2.39985687e-03],\n",
       "        [-3.73096899e-01,  4.73413429e-01,  1.62208639e-01,\n",
       "          6.00099977e-01, -1.09507712e-01, -3.99282879e-02,\n",
       "          2.05546196e-01, -3.38978170e-02, -1.24996400e-01,\n",
       "          3.74850937e-03, -5.37230825e-02,  6.87615770e-02,\n",
       "         -3.75593633e-01, -2.42599526e-02,  8.37266008e-02,\n",
       "          1.46078999e-01,  1.21701650e-03],\n",
       "        [-1.54499430e-01,  4.52402706e-02,  2.06442251e-01,\n",
       "         -1.62095474e-01, -3.20524881e-03, -1.33342376e-02,\n",
       "         -3.51579720e-02,  9.14216928e-01, -7.99387393e-02,\n",
       "          2.14412286e-03, -3.80644983e-02, -2.32735728e-01,\n",
       "         -5.54956854e-02, -4.09779234e-03,  5.33576655e-02,\n",
       "          4.14033310e-03,  1.66673445e-03],\n",
       "        [-2.22013723e-01,  2.35181799e-01, -3.14842162e-02,\n",
       "         -1.56469511e-01, -3.48586053e-02, -2.45237390e-02,\n",
       "         -1.03955307e-01, -5.90164711e-02,  8.82317300e-01,\n",
       "         -8.47313769e-03, -2.80932032e-02, -1.87014661e-01,\n",
       "         -1.30460467e-01, -1.60272719e-02,  9.72323459e-02,\n",
       "         -1.12579376e-01, -9.74179843e-03],\n",
       "        [-5.85406397e-02, -3.19046170e-02, -7.89001316e-02,\n",
       "         -4.70354536e-03, -2.57518293e-03, -1.89869202e-03,\n",
       "          1.47166913e-02,  8.65010518e-03,  7.56943426e-04,\n",
       "          9.91766049e-01, -3.48622127e-03, -4.23975388e-04,\n",
       "         -2.92715158e-02, -6.84107984e-04, -6.20671578e-02,\n",
       "         -2.59984572e-02, -2.78374448e-03],\n",
       "        [-1.54746544e-01, -3.53295221e-02,  6.73415149e-02,\n",
       "         -2.24157257e-02, -5.28613631e-03, -8.38818608e-03,\n",
       "         -4.64341036e-02, -3.55410886e-02, -3.27989891e-02,\n",
       "         -6.40720822e-03,  9.71806890e-01, -1.05422017e-01,\n",
       "         -7.31417363e-02, -1.31907371e-03, -6.35897871e-02,\n",
       "          1.46893447e-02,  4.87559594e-04],\n",
       "        [-5.17085307e-01,  1.34236635e-02,  2.88325471e-01,\n",
       "         -6.23085688e-01, -4.83526545e-04, -3.74779427e-02,\n",
       "          9.86685821e-02, -2.10283296e-01, -2.13462148e-01,\n",
       "         -1.76179039e-02, -1.01550814e-01,  3.25579910e-01,\n",
       "         -1.65151551e-01, -1.19999842e-02,  7.41919180e-03,\n",
       "         -1.26542612e-01, -6.11702535e-03],\n",
       "        [-5.55239994e-01,  1.09410581e-01, -2.16718294e-01,\n",
       "          1.56660758e-01, -6.82031715e-02, -3.66812596e-02,\n",
       "         -3.20226360e-01, -2.07484113e-02, -1.04947887e-01,\n",
       "         -3.84371521e-02, -6.28711226e-02, -1.02494990e-01,\n",
       "          6.43964706e-01, -1.82281322e-02, -2.28139933e-01,\n",
       "         -7.11133510e-02, -1.33654941e-02],\n",
       "        [-2.16773822e-02,  4.68624378e-02, -3.41034548e-02,\n",
       "         -6.43519939e-03, -7.20377183e-03, -3.22564191e-03,\n",
       "         -2.01333924e-02,  5.80394975e-05, -1.33414493e-02,\n",
       "         -1.69387206e-03, -9.45657508e-05, -3.83917445e-03,\n",
       "         -1.89897791e-02,  9.97147006e-01,  1.63506481e-02,\n",
       "         -2.30503162e-02, -2.20302399e-03],\n",
       "        [-4.06972967e-01, -7.76940852e-01, -1.88946600e-01,\n",
       "          2.37910208e-01,  3.59977890e-02,  1.07583352e-02,\n",
       "          1.30154386e-01,  5.77547745e-02,  1.37102718e-01,\n",
       "         -5.28308360e-02, -5.58564357e-02,  4.33736294e-02,\n",
       "         -1.55134381e-01,  2.38917937e-02,  2.22575851e-01,\n",
       "          1.26316740e-01,  4.85627023e-03],\n",
       "        [-5.62732763e-02,  2.32431158e-01, -6.06096146e-01,\n",
       "         -3.20428415e-01, -2.59664471e-02, -1.28194851e-02,\n",
       "          2.02795381e-01,  5.57257206e-02, -5.61285521e-02,\n",
       "         -2.93901031e-02,  3.55858370e-02,  3.07432749e-03,\n",
       "         -3.07627088e-02, -1.85556832e-02,  5.88767423e-02,\n",
       "          6.45654121e-01, -2.82113850e-02],\n",
       "        [-1.25173592e-02,  2.00197033e-02, -5.58280554e-02,\n",
       "         -1.35410512e-02, -3.68065838e-03, -1.46659512e-03,\n",
       "          6.67895001e-03,  6.27297037e-03, -4.39788462e-03,\n",
       "         -3.06955249e-03,  2.32330079e-03,  5.51255998e-03,\n",
       "         -9.46241323e-03, -1.73603438e-03, -1.77284240e-03,\n",
       "         -2.76700647e-02,  9.97555443e-01]]))"
      ]
     },
     "execution_count": 71,
     "metadata": {},
     "output_type": "execute_result"
    }
   ],
   "source": [
    "u, s, v = np.linalg.svd(food_data)\n",
    "u, s, v"
   ]
  },
  {
   "cell_type": "code",
   "execution_count": null,
   "metadata": {},
   "outputs": [
    {
     "data": {
      "text/plain": [
       "array([[ 1.00000000e+00,  1.12323345e-16, -1.96023753e-16,\n",
       "        -2.79724161e-17,  1.43982049e-16,  2.86229374e-17,\n",
       "         7.80625564e-17,  2.38958159e-16,  2.38524478e-16,\n",
       "        -6.50521303e-17, -7.54604712e-17, -8.32667268e-17,\n",
       "        -1.35308431e-16,  7.48099499e-18,  1.56125113e-16,\n",
       "         2.22044605e-16,  2.74303150e-17],\n",
       "       [ 1.12323345e-16,  1.00000000e+00,  1.38777878e-16,\n",
       "         2.01227923e-16,  4.16333634e-17, -4.68375339e-17,\n",
       "         1.38777878e-16,  2.77555756e-17,  5.55111512e-17,\n",
       "        -4.16333634e-17, -1.31838984e-16,  3.46944695e-17,\n",
       "         1.66533454e-16,  1.14491749e-16, -2.08166817e-17,\n",
       "        -5.55111512e-17, -1.73472348e-17],\n",
       "       [-1.96023753e-16,  1.38777878e-16,  1.00000000e+00,\n",
       "         3.46944695e-18,  6.93889390e-17, -3.12250226e-17,\n",
       "         2.77555756e-17, -6.59194921e-17, -3.60822483e-16,\n",
       "         8.67361738e-17, -3.33066907e-16,  1.38777878e-16,\n",
       "         8.32667268e-17,  2.15105711e-16, -8.32667268e-17,\n",
       "        -1.24900090e-16,  7.02563008e-17],\n",
       "       [-2.79724161e-17,  2.01227923e-16,  3.46944695e-18,\n",
       "         1.00000000e+00, -5.55111512e-16,  2.77555756e-17,\n",
       "        -1.80411242e-16, -2.77555756e-17,  4.16333634e-17,\n",
       "        -2.22044605e-16,  3.60822483e-16, -4.85722573e-17,\n",
       "        -2.77555756e-17,  2.02962647e-16,  2.42861287e-16,\n",
       "        -2.77555756e-17, -2.01227923e-16],\n",
       "       [ 1.43982049e-16,  4.16333634e-17,  6.93889390e-17,\n",
       "        -5.55111512e-16,  1.00000000e+00,  2.87964097e-16,\n",
       "        -1.42247325e-16,  3.61689845e-16,  4.89192020e-16,\n",
       "        -5.27355937e-16,  7.84095011e-16, -3.46944695e-17,\n",
       "        -1.31838984e-16, -4.29777741e-16,  8.32667268e-17,\n",
       "        -3.03576608e-16,  1.31838984e-16],\n",
       "       [ 2.86229374e-17, -4.68375339e-17, -3.12250226e-17,\n",
       "         2.77555756e-17,  2.87964097e-16,  1.00000000e+00,\n",
       "         9.71445147e-17, -1.04083409e-16, -3.53883589e-16,\n",
       "        -5.55111512e-17,  2.08166817e-17,  1.38777878e-16,\n",
       "        -4.85722573e-17,  1.66533454e-16,  3.98986399e-17,\n",
       "         1.66533454e-16, -1.04083409e-16],\n",
       "       [ 7.80625564e-17,  1.38777878e-16,  2.77555756e-17,\n",
       "        -1.80411242e-16, -1.42247325e-16,  9.71445147e-17,\n",
       "         1.00000000e+00,  9.02056208e-17,  1.52655666e-16,\n",
       "         6.93889390e-17, -2.84494650e-16, -1.38777878e-17,\n",
       "         2.77555756e-16, -6.15826834e-17,  2.22044605e-16,\n",
       "         2.77555756e-17, -4.68375339e-17],\n",
       "       [ 2.38958159e-16,  2.77555756e-17, -6.59194921e-17,\n",
       "        -2.77555756e-17,  3.61689845e-16, -1.04083409e-16,\n",
       "         9.02056208e-17,  1.00000000e+00,  1.66533454e-16,\n",
       "        -6.93889390e-18, -5.41233725e-16,  1.38777878e-16,\n",
       "        -1.66533454e-16,  1.94289029e-16,  1.38777878e-16,\n",
       "         1.38777878e-17,  1.24900090e-16],\n",
       "       [ 2.38524478e-16,  5.55111512e-17, -3.60822483e-16,\n",
       "         4.16333634e-17,  4.89192020e-16, -3.53883589e-16,\n",
       "         1.52655666e-16,  1.66533454e-16,  1.00000000e+00,\n",
       "        -2.44596010e-16,  3.92047506e-16, -9.71445147e-17,\n",
       "        -8.32667268e-17,  3.42607887e-17,  1.52655666e-16,\n",
       "         5.68989300e-16,  1.21430643e-17],\n",
       "       [-6.50521303e-17, -4.16333634e-17,  8.67361738e-17,\n",
       "        -2.22044605e-16, -5.27355937e-16, -5.55111512e-17,\n",
       "         6.93889390e-17, -6.93889390e-18, -2.44596010e-16,\n",
       "         1.00000000e+00,  6.38378239e-16,  0.00000000e+00,\n",
       "         2.15105711e-16, -2.77555756e-16, -1.66533454e-16,\n",
       "        -1.38777878e-17,  0.00000000e+00],\n",
       "       [-7.54604712e-17, -1.31838984e-16, -3.33066907e-16,\n",
       "         3.60822483e-16,  7.84095011e-16,  2.08166817e-17,\n",
       "        -2.84494650e-16, -5.41233725e-16,  3.92047506e-16,\n",
       "         6.38378239e-16,  1.00000000e+00, -6.93889390e-17,\n",
       "         1.80411242e-16,  4.33680869e-18, -8.32667268e-17,\n",
       "        -2.42861287e-16,  1.54824070e-16],\n",
       "       [-8.32667268e-17,  3.46944695e-17,  1.38777878e-16,\n",
       "        -4.85722573e-17, -3.46944695e-17,  1.38777878e-16,\n",
       "        -1.38777878e-17,  1.38777878e-16, -9.71445147e-17,\n",
       "         0.00000000e+00, -6.93889390e-17,  1.00000000e+00,\n",
       "         1.66533454e-16, -7.63278329e-17,  1.38777878e-16,\n",
       "        -2.35922393e-16, -3.46944695e-17],\n",
       "       [-1.35308431e-16,  1.66533454e-16,  8.32667268e-17,\n",
       "        -2.77555756e-17, -1.31838984e-16, -4.85722573e-17,\n",
       "         2.77555756e-16, -1.66533454e-16, -8.32667268e-17,\n",
       "         2.15105711e-16,  1.80411242e-16,  1.66533454e-16,\n",
       "         1.00000000e+00,  2.25514052e-17,  1.66533454e-16,\n",
       "         5.55111512e-17, -2.94902991e-17],\n",
       "       [ 7.48099499e-18,  1.14491749e-16,  2.15105711e-16,\n",
       "         2.02962647e-16, -4.29777741e-16,  1.66533454e-16,\n",
       "        -6.15826834e-17,  1.94289029e-16,  3.42607887e-17,\n",
       "        -2.77555756e-16,  4.33680869e-18, -7.63278329e-17,\n",
       "         2.25514052e-17,  1.00000000e+00,  1.30104261e-17,\n",
       "        -1.80411242e-16,  1.45716772e-16],\n",
       "       [ 1.56125113e-16, -2.08166817e-17, -8.32667268e-17,\n",
       "         2.42861287e-16,  8.32667268e-17,  3.98986399e-17,\n",
       "         2.22044605e-16,  1.38777878e-16,  1.52655666e-16,\n",
       "        -1.66533454e-16, -8.32667268e-17,  1.38777878e-16,\n",
       "         1.66533454e-16,  1.30104261e-17,  1.00000000e+00,\n",
       "         1.38777878e-16,  1.73472348e-17],\n",
       "       [ 2.22044605e-16, -5.55111512e-17, -1.24900090e-16,\n",
       "        -2.77555756e-17, -3.03576608e-16,  1.66533454e-16,\n",
       "         2.77555756e-17,  1.38777878e-17,  5.68989300e-16,\n",
       "        -1.38777878e-17, -2.42861287e-16, -2.35922393e-16,\n",
       "         5.55111512e-17, -1.80411242e-16,  1.38777878e-16,\n",
       "         1.00000000e+00, -4.85722573e-17],\n",
       "       [ 2.74303150e-17, -1.73472348e-17,  7.02563008e-17,\n",
       "        -2.01227923e-16,  1.31838984e-16, -1.04083409e-16,\n",
       "        -4.68375339e-17,  1.24900090e-16,  1.21430643e-17,\n",
       "         0.00000000e+00,  1.54824070e-16, -3.46944695e-17,\n",
       "        -2.94902991e-17,  1.45716772e-16,  1.73472348e-17,\n",
       "        -4.85722573e-17,  1.00000000e+00]])"
      ]
     },
     "execution_count": 59,
     "metadata": {},
     "output_type": "execute_result"
    }
   ],
   "source": [
    "B @ B.T"
   ]
  }
 ],
 "metadata": {
  "interpreter": {
   "hash": "8ab0d968002a578cf1e1aa041721a175249ba338f6da29efa5ef1a380c630376"
  },
  "kernelspec": {
   "display_name": "Python 3.7.11 64-bit ('base': conda)",
   "name": "python3"
  },
  "language_info": {
   "codemirror_mode": {
    "name": "ipython",
    "version": 3
   },
   "file_extension": ".py",
   "mimetype": "text/x-python",
   "name": "python",
   "nbconvert_exporter": "python",
   "pygments_lexer": "ipython3",
   "version": "3.7.11"
  }
 },
 "nbformat": 4,
 "nbformat_minor": 1
}
